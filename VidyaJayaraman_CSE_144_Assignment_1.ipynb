{
  "nbformat": 4,
  "nbformat_minor": 0,
  "metadata": {
    "colab": {
      "name": "VidyaJayaraman-CSE 144 - Assignment 1.ipynb",
      "provenance": [],
      "toc_visible": true
    },
    "kernelspec": {
      "name": "python3",
      "display_name": "Python 3"
    }
  },
  "cells": [
    {
      "cell_type": "markdown",
      "metadata": {
        "id": "IDo6Mz1MoJxR",
        "colab_type": "text"
      },
      "source": [
        "# Assignment 1\n",
        "\n",
        "Turn in the assignment via Canvas.\n",
        "\n",
        "To write legible answers you will need to be familiar with both [Markdown](https://github.com/adam-p/markdown-here/wiki/Markdown-Cheatsheet) and [Latex](https://www.latex-tutorial.com/tutorials/amsmath/)\n",
        "\n",
        "Before you turn this problem in, make sure everything runs as expected. First, restart the kernel (in the menubar, select Kernel→→Restart) and then run all cells (in the menubar, select Cell→→Run All).\n",
        "\n",
        "Make sure you fill in any place that says \"YOUR CODE HERE\" or \"YOUR ANSWER HERE\", as well as your name below:"
      ]
    },
    {
      "cell_type": "code",
      "metadata": {
        "id": "nOfazHDtoJxS",
        "colab_type": "code",
        "colab": {}
      },
      "source": [
        "NAME = \"Vidya Jayaraman\"\n",
        "STUDENT_ID = \"1620208\""
      ],
      "execution_count": 0,
      "outputs": []
    },
    {
      "cell_type": "markdown",
      "metadata": {
        "id": "DnqS9q_LoJxW",
        "colab_type": "text"
      },
      "source": [
        "## Problem 1 -  Bayes' Theorem\n",
        "\n",
        "Suppose there exists a test to classify emails as spam or not spam based on the contained words. This test accurately identifies spam (if it is actually spam) 95% of the time. The prevalence of spam emails is 3 in 10. Also, if an email isn't spam, the test will incorrectly classify it as spam 5% of the time.\n",
        "\n",
        "NOTE: For each of the following questions, please give each answer to at least 2 significant digit accuracy. To accomplish this, don't round off your results until the very last step of each calculation."
      ]
    },
    {
      "cell_type": "markdown",
      "metadata": {
        "id": "iScoUr4VoJxW",
        "colab_type": "text"
      },
      "source": [
        "### a. What's the probability that an email picked at random is spam? What's the probability that an email picked at random isn't spam?"
      ]
    },
    {
      "cell_type": "markdown",
      "metadata": {
        "id": "tD5BY6oBoJxX",
        "colab_type": "text"
      },
      "source": [
        "\n",
        "The probability that an email picked at random is spam is .30, which is given in the problem. The probability that an email picked at random is not spam is, 1- spam = 1 - 0.30 = 0.70. So, the probability that it is not spam is 0.70. "
      ]
    },
    {
      "cell_type": "markdown",
      "metadata": {
        "id": "6V9jAYoNoJxX",
        "colab_type": "text"
      },
      "source": [
        "### b. If you test an email and it reports positive for spam, what is the probability that it is spam?"
      ]
    },
    {
      "cell_type": "markdown",
      "metadata": {
        "id": "20zMUeQdoJxY",
        "colab_type": "text"
      },
      "source": [
        "\n",
        "The formula is P(spam | positive) = $\\frac{P(positive | spam) * P(spam)}{P(positive_-test)}$. \n",
        "\n",
        "In order to get the value of P(positive test | spam), we know that the value is 0.95. The probability that it is spam is 0.3. So, $\\frac{0.95 * 0.3} {P(positive_-test)}$. \n",
        "\n",
        "Now, we need to calculate P(positive test). So, the formula for this is: P(positive test) = P(positive, spam) + P(positive, not spam) = True Positive Rate + False Positive Rate = $(0.95 * 0.30) + (.70 * 0.05)$ = 0.32. \n",
        "\n",
        "So, putting the values in to the equation, we get: (spam | positive) = $\\frac{0.95 * 0.3} {0.32}$ = 0.89\n",
        "\n",
        "So, the probability that it is spam is 0.89. "
      ]
    },
    {
      "cell_type": "markdown",
      "metadata": {
        "id": "n4ALhwnmoJxY",
        "colab_type": "text"
      },
      "source": [
        "### c. If you test an email and it reports negative for spam, what is the probability that it is spam?"
      ]
    },
    {
      "cell_type": "markdown",
      "metadata": {
        "id": "RqAiQbSLoJxZ",
        "colab_type": "text"
      },
      "source": [
        "The formula is P(spam | negative test) = $\\frac{P(negative | spam) * P(spam)}{P(negative_-test)}$. \n",
        "\n",
        "In order to get the value of P(negative test | spam), we know that the value is 0.05. The probability that it is spam is 0.3. So, $\\frac{0.05 * 0.3} {P(positive_-test)}$. \n",
        "\n",
        "Now, we need to calculate P(positive test). So, the formula for this is: P(negative test) = P(negative, spam) + P(negative, not spam) = False Negative Rate + True Negative Rate = $(0.05 * 0.30) + (.95 * 0.7)$ = 0.68. \n",
        "\n",
        "So, putting the values in to the equation, we get: (spam | positive) = $\\frac{0.05 * 0.3} {0.68}$ = 0.89\n",
        "\n",
        "The probability that it is spam is 0.02. "
      ]
    },
    {
      "cell_type": "markdown",
      "metadata": {
        "colab_type": "text",
        "id": "FrJ1hKatYaiU"
      },
      "source": [
        "## Monte Carlo Simulations\n",
        "\n",
        "Monte Carlo simulations can yield numeric solutions to probability problems that aren't possible to solve analytically. These simulations are also often easy to code up, and so also provide a way to check one's calculations for problems that amenable to analysis. So this is an important technique to become familiar with.\n",
        "\n",
        "Basically, one creates a simulation of the situation, and runs many trials that allow one to estimate the probabilities by computing proportions. \n",
        "\n",
        "First we give you an example of a Monte Carlo simulation, and then you'll solve such a problem yourself.\n",
        "\n",
        "### Example\n",
        "\n",
        "If you toss a coin 10 times, with what probability are you likely to see the subsequence {H, H, T, T} appear?\n",
        "\n",
        "Be patient, this may take a bit to run, but notice how straightforward the coding is. The simplicity of the Monte Carlo method makes it very powerful."
      ]
    },
    {
      "cell_type": "code",
      "metadata": {
        "id": "vBn1ndB3oJxa",
        "colab_type": "code",
        "outputId": "621120d5-fbe7-432b-a8f2-0fc501307e3a",
        "colab": {
          "base_uri": "https://localhost:8080/",
          "height": 204
        }
      },
      "source": [
        "from numpy.random import randint\n",
        "import numpy as np\n",
        "\n",
        "num_tosses = 10    # tosses per trial\n",
        "num_trials = 100000\n",
        "\n",
        "# This sets the feedback interval so we know the program hasn't crashed.\n",
        "feedback = int(np.round(num_trials / 10))\n",
        "\n",
        "num_seq_found = 0   # to count the number of target subsequences detected\n",
        "for t in range(1, num_trials + 1):\n",
        "    \n",
        "    # To see the progress.\n",
        "    if t % feedback == 0:  \n",
        "        print(np.round(100 * t / num_trials, 1), '%  complete:   prob =', num_seq_found / t)\n",
        "        \n",
        "    # Roll the die num_tosses times.\n",
        "    # randint rolled 1 or 2- heads or tails\n",
        "    trial = [randint(1, 3) for _ in range(num_tosses)]\n",
        "    # Find the indices of all the 2s.\n",
        "    # gets the position of heads by including i in heads, if trial[i] == 1\n",
        "    heads = [i for i in range(num_tosses) if trial[i] == 1]\n",
        "\n",
        "    # Search to see if after each 2 we have a 4 followed by a 6.\n",
        "    for j in heads:\n",
        "        if j < num_tosses - 3 and trial[j] == 1 and trial[j + 1] == 1 and trial[j + 2] == 2 and trial[j + 3] == 2:\n",
        "            # We've found the target subsequence.\n",
        "            num_seq_found += 1\n",
        "    \n",
        "print('Probability of this subsequence =', num_seq_found / num_trials)"
      ],
      "execution_count": 0,
      "outputs": [
        {
          "output_type": "stream",
          "text": [
            "10.0 %  complete:   prob = 0.4422\n",
            "20.0 %  complete:   prob = 0.441\n",
            "30.0 %  complete:   prob = 0.438\n",
            "40.0 %  complete:   prob = 0.4398\n",
            "50.0 %  complete:   prob = 0.43822\n",
            "60.0 %  complete:   prob = 0.43753333333333333\n",
            "70.0 %  complete:   prob = 0.43688571428571427\n",
            "80.0 %  complete:   prob = 0.437325\n",
            "90.0 %  complete:   prob = 0.4375222222222222\n",
            "100.0 %  complete:   prob = 0.43642\n",
            "Probability of this subsequence = 0.43642\n"
          ],
          "name": "stdout"
        }
      ]
    },
    {
      "cell_type": "markdown",
      "metadata": {
        "colab_type": "text",
        "id": "IT-eRCtiYaib"
      },
      "source": [
        "## Problem 2  -  Monte Carlo Simulation\n",
        "\n",
        "Consider two dice: One fair and one unfair. The unfair die has a 50% chance to land on the 6 face, and even chance for the rest of the faces.\n",
        "\n",
        "Write code that rolls both dice and computes the sum.\n",
        "\n",
        "Do this many times, and give the mean of all the sums.  This will converge to the expected average sum of both randomly rolled dice. You may need to run this several times to be sure of your accuracy. You can check the correctness of your Monte Carlo Simulation by solving this problem analytically.\n",
        "\n",
        "Hint:\n",
        "\n",
        "https://docs.scipy.org/doc/numpy-1.14.0/reference/generated/numpy.random.choice.html"
      ]
    },
    {
      "cell_type": "code",
      "metadata": {
        "id": "H4GVkg25oJxd",
        "colab_type": "code",
        "outputId": "0a357be0-dc45-4266-81c8-a53c75eb5b26",
        "colab": {
          "base_uri": "https://localhost:8080/",
          "height": 34
        }
      },
      "source": [
        "import numpy as np\n",
        "from numpy.random import choice\n",
        "\n",
        "# number of trials\n",
        "num_trials = 100000\n",
        "\n",
        "# the different dice choices\n",
        "dice_choice = [1, 2, 3, 4, 5 , 6]\n",
        "# probability of the unfair dice\n",
        "probabilities_unfair = [0.1, 0.1, 0.1, 0.1, 0.1, 0.5]\n",
        "# declaring variables\n",
        "mean_sum = 0\n",
        "total = 0\n",
        "count = 1\n",
        "# iterating for the total amount of the trials\n",
        "for i in range(1, num_trials + 1):\n",
        "  # result of rolling the unfair die\n",
        "  unfair = choice(dice_choice, p=probabilities_unfair)\n",
        "  # result of rolling the fair die\n",
        "  fair = choice(dice_choice)\n",
        "  # get the sum of both  dice\n",
        "  total += (fair + unfair)\n",
        "\n",
        "# average of the sume of the dice rolls \n",
        "mean_sum = total/num_trials\n",
        "print('mean sum =', mean_sum)\n",
        "\n",
        "\n"
      ],
      "execution_count": 1,
      "outputs": [
        {
          "output_type": "stream",
          "text": [
            "mean sum = 7.99337\n"
          ],
          "name": "stdout"
        }
      ]
    },
    {
      "cell_type": "markdown",
      "metadata": {
        "id": "JqLfHsyWoJxg",
        "colab_type": "text"
      },
      "source": [
        "\n",
        "\n",
        "mean sum = 7.99"
      ]
    },
    {
      "cell_type": "markdown",
      "metadata": {
        "colab_type": "text",
        "id": "YVsAdkmbD-Sy"
      },
      "source": [
        "\n",
        "## Problem 3 - Data Processing\n",
        "\n"
      ]
    },
    {
      "cell_type": "markdown",
      "metadata": {
        "id": "esDKYNhE_7cP",
        "colab_type": "text"
      },
      "source": [
        "There are three types of data:\n",
        "\n",
        "1.   **Numerical**: For example height, price of a good, heart rate and so on. These data are quantitative in nature.\n",
        "2.   **Categorical**: While these are qualitative in nature. For example \"Yes\" or \"No\", \"Red\",\"Green\" or \"Blue\" and \"Doggo\" or \"Kitty\".\n",
        "3.   **Ordinal**: This is a combination of the above, for example movie ratings of 1-5.\n",
        " \n"
      ]
    },
    {
      "cell_type": "markdown",
      "metadata": {
        "id": "dfzrHV3fFAv1",
        "colab_type": "text"
      },
      "source": [
        "Machine learning algorithms need data to work. Before you start applying machine learning, you must process your data into a form a machine learning model will expect. This is known as **data preprocessing**.  \n",
        "\n",
        "The data we are working with pertains to the airline domain in India. It was used in a hackathon, where the goal was to predict airline prices given a set of *features*. First let's download a dataset, go to link http://download853.mediafire.com/orceo1u9llng/l7j86drkdln9aye/Data_Train.xlsx and download the Data_Train.xlsx. Then upload the file to your notebook (without renaming) by clicking on the File icon on the left side and then clicking \"Upload\" and upload the \"Data_Train.xlsx\" file."
      ]
    },
    {
      "cell_type": "markdown",
      "metadata": {
        "id": "Tl-cv1UmgLEk",
        "colab_type": "text"
      },
      "source": [
        "Now that we have some data, we need the appropriate libraries to first read the data in and if need be manipulate the data for use in machine learning."
      ]
    },
    {
      "cell_type": "code",
      "metadata": {
        "id": "mxUdD1br_7-b",
        "colab_type": "code",
        "colab": {}
      },
      "source": [
        "# We import pandas, a Python library that allows us to read in common data formats such as .csv, .xlsx, etc... \n",
        "# as a dataframe, essentially a matrix of features.\n",
        "import pandas as pd\n",
        "data = pd.read_excel('Data_Train.xlsx')  # Read in the data we downloaded\n",
        "data.dropna(inplace=True)"
      ],
      "execution_count": 0,
      "outputs": []
    },
    {
      "cell_type": "code",
      "metadata": {
        "id": "kCfYBVElWpLF",
        "colab_type": "code",
        "outputId": "0abdc6ca-7996-44fc-f1e0-fe0bb7654804",
        "colab": {
          "base_uri": "https://localhost:8080/",
          "height": 445
        }
      },
      "source": [
        "# We can examine the data by looking at the first 5 entries using the head() function.\n",
        "data.head()"
      ],
      "execution_count": 3,
      "outputs": [
        {
          "output_type": "execute_result",
          "data": {
            "text/html": [
              "<div>\n",
              "<style scoped>\n",
              "    .dataframe tbody tr th:only-of-type {\n",
              "        vertical-align: middle;\n",
              "    }\n",
              "\n",
              "    .dataframe tbody tr th {\n",
              "        vertical-align: top;\n",
              "    }\n",
              "\n",
              "    .dataframe thead th {\n",
              "        text-align: right;\n",
              "    }\n",
              "</style>\n",
              "<table border=\"1\" class=\"dataframe\">\n",
              "  <thead>\n",
              "    <tr style=\"text-align: right;\">\n",
              "      <th></th>\n",
              "      <th>Airline</th>\n",
              "      <th>Date_of_Journey</th>\n",
              "      <th>Source</th>\n",
              "      <th>Destination</th>\n",
              "      <th>Route</th>\n",
              "      <th>Dep_Time</th>\n",
              "      <th>Arrival_Time</th>\n",
              "      <th>Duration</th>\n",
              "      <th>Total_Stops</th>\n",
              "      <th>Additional_Info</th>\n",
              "      <th>Price</th>\n",
              "    </tr>\n",
              "  </thead>\n",
              "  <tbody>\n",
              "    <tr>\n",
              "      <th>0</th>\n",
              "      <td>IndiGo</td>\n",
              "      <td>24/03/2019</td>\n",
              "      <td>Banglore</td>\n",
              "      <td>New Delhi</td>\n",
              "      <td>BLR → DEL</td>\n",
              "      <td>22:20</td>\n",
              "      <td>01:10 22 Mar</td>\n",
              "      <td>2h 50m</td>\n",
              "      <td>non-stop</td>\n",
              "      <td>No info</td>\n",
              "      <td>3897</td>\n",
              "    </tr>\n",
              "    <tr>\n",
              "      <th>1</th>\n",
              "      <td>Air India</td>\n",
              "      <td>1/05/2019</td>\n",
              "      <td>Kolkata</td>\n",
              "      <td>Banglore</td>\n",
              "      <td>CCU → IXR → BBI → BLR</td>\n",
              "      <td>05:50</td>\n",
              "      <td>13:15</td>\n",
              "      <td>7h 25m</td>\n",
              "      <td>2 stops</td>\n",
              "      <td>No info</td>\n",
              "      <td>7662</td>\n",
              "    </tr>\n",
              "    <tr>\n",
              "      <th>2</th>\n",
              "      <td>Jet Airways</td>\n",
              "      <td>9/06/2019</td>\n",
              "      <td>Delhi</td>\n",
              "      <td>Cochin</td>\n",
              "      <td>DEL → LKO → BOM → COK</td>\n",
              "      <td>09:25</td>\n",
              "      <td>04:25 10 Jun</td>\n",
              "      <td>19h</td>\n",
              "      <td>2 stops</td>\n",
              "      <td>No info</td>\n",
              "      <td>13882</td>\n",
              "    </tr>\n",
              "    <tr>\n",
              "      <th>3</th>\n",
              "      <td>IndiGo</td>\n",
              "      <td>12/05/2019</td>\n",
              "      <td>Kolkata</td>\n",
              "      <td>Banglore</td>\n",
              "      <td>CCU → NAG → BLR</td>\n",
              "      <td>18:05</td>\n",
              "      <td>23:30</td>\n",
              "      <td>5h 25m</td>\n",
              "      <td>1 stop</td>\n",
              "      <td>No info</td>\n",
              "      <td>6218</td>\n",
              "    </tr>\n",
              "    <tr>\n",
              "      <th>4</th>\n",
              "      <td>IndiGo</td>\n",
              "      <td>01/03/2019</td>\n",
              "      <td>Banglore</td>\n",
              "      <td>New Delhi</td>\n",
              "      <td>BLR → NAG → DEL</td>\n",
              "      <td>16:50</td>\n",
              "      <td>21:35</td>\n",
              "      <td>4h 45m</td>\n",
              "      <td>1 stop</td>\n",
              "      <td>No info</td>\n",
              "      <td>13302</td>\n",
              "    </tr>\n",
              "  </tbody>\n",
              "</table>\n",
              "</div>"
            ],
            "text/plain": [
              "       Airline Date_of_Journey    Source  ... Total_Stops Additional_Info  Price\n",
              "0       IndiGo      24/03/2019  Banglore  ...    non-stop         No info   3897\n",
              "1    Air India       1/05/2019   Kolkata  ...     2 stops         No info   7662\n",
              "2  Jet Airways       9/06/2019     Delhi  ...     2 stops         No info  13882\n",
              "3       IndiGo      12/05/2019   Kolkata  ...      1 stop         No info   6218\n",
              "4       IndiGo      01/03/2019  Banglore  ...      1 stop         No info  13302\n",
              "\n",
              "[5 rows x 11 columns]"
            ]
          },
          "metadata": {
            "tags": []
          },
          "execution_count": 3
        }
      ]
    },
    {
      "cell_type": "markdown",
      "metadata": {
        "id": "Nf1cdIceaQOb",
        "colab_type": "text"
      },
      "source": [
        "### Exploratory Data Analysis\n",
        "\n",
        "Before we start processing we should examine our data. This is known as exploratory data analysis.\n",
        "\n",
        "Use seaborn to carry out data exploratory analysis to observe the distribution of Airlines.\n",
        "\n",
        "[HINT: Use sns.countplot()]\n",
        "\n",
        "Comment on the distribution of Airlines and what this could mean for price prediction?"
      ]
    },
    {
      "cell_type": "markdown",
      "metadata": {
        "id": "IMtdMgMAJlM8",
        "colab_type": "text"
      },
      "source": [
        "\n",
        "\n",
        "```\n",
        "# This is formatted as code\n",
        "```\n",
        "\n",
        "By looking at the countplot for the airlines, we would expect the total price for each airline to correlate to the amount of flights the airline takes. This does not mean that the price per flight correlates with the amount of flights the airline takes, but rather the price from all the flights taken, increases based on the total amount of flights taken. In this countplot, Jet Airways (not Jet Airways Business) has the most amount of journeys. By looking at the countplot and the barplot, one interesting observation is that while there are a lot less Jet Airways Business airlines than the other airlines, the average price per flight is a lot more (more than 3 times!) than any other airline. While the average price for all the other airlines is less than 2,000, the average price for Jet Airways Business airlines is almost 6,000.  Meanwhile, Jet Airways price is among the highest of the prices compared to the other airlines, but not nearly as much as Jet Airways Business. However, since Jet Airways Business did not take as many flights as the other airlines, its overall price (when computing all the journeys times its price), may be less than the airlines that have taken a lot more flights.  "
      ]
    },
    {
      "cell_type": "code",
      "metadata": {
        "id": "KvPpYDYtaPoH",
        "colab_type": "code",
        "outputId": "c572f091-d247-4201-b73e-34a28ff1845e",
        "colab": {
          "base_uri": "https://localhost:8080/",
          "height": 631
        }
      },
      "source": [
        "import matplotlib.pyplot as plt\n",
        "import seaborn as sns # Used for plotting\n",
        "import matplotlib.pyplot as plt\n",
        "# plotting the distribution of the different airlines in the \"Airlines\" column,\n",
        "# or the count of each\n",
        "ax = sns.countplot(x=\"Airline\", data=data)\n",
        "#rotated x-axis labels to prevent overlapping \n",
        "ax.set_xticklabels(ax.get_xticklabels(), rotation=40, ha=\"right\")\n",
        "plt.tight_layout()\n",
        "plt.show()\n",
        "# create a bar plot to compare the price of the different airlines\n",
        "axs = sns.barplot(x=\"Airline\", y=\"Price\", data=data)\n",
        "axs.set_xticklabels(axs.get_xticklabels(), rotation=40, ha=\"right\")\n",
        "plt.tight_layout()\n",
        "plt.show()\n",
        "#uncomment this after you use seaborn\n",
        "#plt.xticks(rotation=90)"
      ],
      "execution_count": 4,
      "outputs": [
        {
          "output_type": "stream",
          "text": [
            "/usr/local/lib/python3.6/dist-packages/statsmodels/tools/_testing.py:19: FutureWarning: pandas.util.testing is deprecated. Use the functions in the public API at pandas.testing instead.\n",
            "  import pandas.util.testing as tm\n"
          ],
          "name": "stderr"
        },
        {
          "output_type": "display_data",
          "data": {
            "image/png": "[encoded data removed]",
            "text/plain": [
              "<Figure size 432x288 with 1 Axes>"
            ]
          },
          "metadata": {
            "tags": [],
            "needs_background": "light"
          }
        },
        {
          "output_type": "display_data",
          "data": {
            "image/png": "[encoded data removed]",
            "text/plain": [
              "<Figure size 432x288 with 1 Axes>"
            ]
          },
          "metadata": {
            "tags": [],
            "needs_background": "light"
          }
        }
      ]
    },
    {
      "cell_type": "markdown",
      "metadata": {
        "id": "reNlqIhglCG-",
        "colab_type": "text"
      },
      "source": [
        "### Data Preprocessing and Feature Engineering"
      ]
    },
    {
      "cell_type": "markdown",
      "metadata": {
        "id": "4AjtkWP-iD8u",
        "colab_type": "text"
      },
      "source": [
        "We observe that this dataset has a mixture of data types ranging from: strings, date-time strings, and integers. \n",
        "\n",
        "Now we are ready to do some data preprocessing! Let's pretend we want to predict \"Price\", then it is reasonable to assume  \"Airline\", \"Date_of_Journey\", \"Source\", \"Destination\" , and \"Route\" could be useful features. We ignore \"Dep_Time\", \"Arrival_Time\" and \"Duration\". Similarly \"Total_Stops\" can be inferred from \"Route\" and \"Additional_Info\" could be useful in the future but for now we ignore it.\n",
        "\n",
        "The goal of preprocessing is to handle any irregularities in the dataset such as missing values, awkwardly formatted entries and any other outlier cases (also known as data cleaning).\n",
        "An example of a case we would need to deal with is in \"Arrival_Time\" row 1, the time and date is specified while other rows only have the time. A decision would have to be made whether or not to keep the date or just use the time. \n",
        "\n",
        "After our data is cleaned, we can confidently transform our data into the form machine learning models expect. Machine learning models are mathematical models and they work with vectors and matricies. Therefore after we finishing preprocessing we should have a dataframe of numbers i.e a matrix."
      ]
    },
    {
      "cell_type": "markdown",
      "metadata": {
        "id": "JdjiA8A4k98c",
        "colab_type": "text"
      },
      "source": [
        "#### a) Processing: \"Airline\", \"Source\" and \"Destination\"\n",
        "\n",
        "The data in these columns are strings and therefore not numerical. They must be transformed. There are several ways to do this transformation, but you can try the most simple method for this assignment. \n",
        "\n",
        "Given these columns transform the entries from strings to numerical data by:\n",
        "\n",
        "i) First for **each** column define a **vocabulary**, that is a collection of all the unique words. \n",
        "\n",
        "ii) Second, with the knowledge of each unique word create mapping of each word to a unique integer.\n",
        "\n",
        "iii) Third, with your mapping apply it to each column to complete the transformation to a numerical representation."
      ]
    },
    {
      "cell_type": "code",
      "metadata": {
        "id": "RloUNhnTBh5H",
        "colab_type": "code",
        "outputId": "c4da7dc0-42c1-4c51-ab5f-27c07376222b",
        "colab": {
          "base_uri": "https://localhost:8080/",
          "height": 445
        }
      },
      "source": [
        "import pandas as pd\n",
        "# define a vocabulary for each column \n",
        "# data = pd.read_excel('Data_Train.xlsx')  # Read in the data we downloaded\n",
        "# Step 1: Create a vocabulary for each column\n",
        "airline = data['Airline'].unique().tolist()\n",
        "source = data['Source'].unique().tolist()\n",
        "destination = data['Destination'].unique().tolist()\n",
        "\n",
        "\n",
        "# Step 2: Create a mapping function from each word in the vocabulary to a unique integer\n",
        "mappingAirline = dict( zip(airline,range(len(airline))))\n",
        "mappingSource = dict( zip(source,range(len(source))))\n",
        "mappingDest = dict( zip(destination,range(len(destination))))\n",
        "\n",
        "\n",
        "# Step 3: Replce all words in the original data with the assigned integers\n",
        "data.replace({'Airline': mappingAirline},inplace=True)\n",
        "data.replace({'Source': mappingSource},inplace=True)\n",
        "data.replace({'Destination': mappingDest},inplace=True)\n",
        "\n",
        "data.head()\n",
        "\n",
        "\n"
      ],
      "execution_count": 5,
      "outputs": [
        {
          "output_type": "execute_result",
          "data": {
            "text/html": [
              "<div>\n",
              "<style scoped>\n",
              "    .dataframe tbody tr th:only-of-type {\n",
              "        vertical-align: middle;\n",
              "    }\n",
              "\n",
              "    .dataframe tbody tr th {\n",
              "        vertical-align: top;\n",
              "    }\n",
              "\n",
              "    .dataframe thead th {\n",
              "        text-align: right;\n",
              "    }\n",
              "</style>\n",
              "<table border=\"1\" class=\"dataframe\">\n",
              "  <thead>\n",
              "    <tr style=\"text-align: right;\">\n",
              "      <th></th>\n",
              "      <th>Airline</th>\n",
              "      <th>Date_of_Journey</th>\n",
              "      <th>Source</th>\n",
              "      <th>Destination</th>\n",
              "      <th>Route</th>\n",
              "      <th>Dep_Time</th>\n",
              "      <th>Arrival_Time</th>\n",
              "      <th>Duration</th>\n",
              "      <th>Total_Stops</th>\n",
              "      <th>Additional_Info</th>\n",
              "      <th>Price</th>\n",
              "    </tr>\n",
              "  </thead>\n",
              "  <tbody>\n",
              "    <tr>\n",
              "      <th>0</th>\n",
              "      <td>0</td>\n",
              "      <td>24/03/2019</td>\n",
              "      <td>0</td>\n",
              "      <td>0</td>\n",
              "      <td>BLR → DEL</td>\n",
              "      <td>22:20</td>\n",
              "      <td>01:10 22 Mar</td>\n",
              "      <td>2h 50m</td>\n",
              "      <td>non-stop</td>\n",
              "      <td>No info</td>\n",
              "      <td>3897</td>\n",
              "    </tr>\n",
              "    <tr>\n",
              "      <th>1</th>\n",
              "      <td>1</td>\n",
              "      <td>1/05/2019</td>\n",
              "      <td>1</td>\n",
              "      <td>1</td>\n",
              "      <td>CCU → IXR → BBI → BLR</td>\n",
              "      <td>05:50</td>\n",
              "      <td>13:15</td>\n",
              "      <td>7h 25m</td>\n",
              "      <td>2 stops</td>\n",
              "      <td>No info</td>\n",
              "      <td>7662</td>\n",
              "    </tr>\n",
              "    <tr>\n",
              "      <th>2</th>\n",
              "      <td>2</td>\n",
              "      <td>9/06/2019</td>\n",
              "      <td>2</td>\n",
              "      <td>2</td>\n",
              "      <td>DEL → LKO → BOM → COK</td>\n",
              "      <td>09:25</td>\n",
              "      <td>04:25 10 Jun</td>\n",
              "      <td>19h</td>\n",
              "      <td>2 stops</td>\n",
              "      <td>No info</td>\n",
              "      <td>13882</td>\n",
              "    </tr>\n",
              "    <tr>\n",
              "      <th>3</th>\n",
              "      <td>0</td>\n",
              "      <td>12/05/2019</td>\n",
              "      <td>1</td>\n",
              "      <td>1</td>\n",
              "      <td>CCU → NAG → BLR</td>\n",
              "      <td>18:05</td>\n",
              "      <td>23:30</td>\n",
              "      <td>5h 25m</td>\n",
              "      <td>1 stop</td>\n",
              "      <td>No info</td>\n",
              "      <td>6218</td>\n",
              "    </tr>\n",
              "    <tr>\n",
              "      <th>4</th>\n",
              "      <td>0</td>\n",
              "      <td>01/03/2019</td>\n",
              "      <td>0</td>\n",
              "      <td>0</td>\n",
              "      <td>BLR → NAG → DEL</td>\n",
              "      <td>16:50</td>\n",
              "      <td>21:35</td>\n",
              "      <td>4h 45m</td>\n",
              "      <td>1 stop</td>\n",
              "      <td>No info</td>\n",
              "      <td>13302</td>\n",
              "    </tr>\n",
              "  </tbody>\n",
              "</table>\n",
              "</div>"
            ],
            "text/plain": [
              "   Airline Date_of_Journey  Source  ...  Total_Stops Additional_Info  Price\n",
              "0        0      24/03/2019       0  ...     non-stop         No info   3897\n",
              "1        1       1/05/2019       1  ...      2 stops         No info   7662\n",
              "2        2       9/06/2019       2  ...      2 stops         No info  13882\n",
              "3        0      12/05/2019       1  ...       1 stop         No info   6218\n",
              "4        0      01/03/2019       0  ...       1 stop         No info  13302\n",
              "\n",
              "[5 rows x 11 columns]"
            ]
          },
          "metadata": {
            "tags": []
          },
          "execution_count": 5
        }
      ]
    },
    {
      "cell_type": "markdown",
      "metadata": {
        "id": "Mc9twBzYpP3o",
        "colab_type": "text"
      },
      "source": [
        "#### b) Processing: \"Date_of_Journey\"\n",
        "\n",
        "i) The entries in this column cannot be understood by any machine learning model as is. We must transform them to numerical representation.\n",
        "\n",
        "Using pandas separate the dates into separate \"Months\" and \"Weekdays\". \n",
        "\n",
        "See example of creating a new column below.\n",
        "\n",
        "HINT: dt.day_name() gets the weekday from a datatime format\n",
        "and dt.month_name() gets the month name."
      ]
    },
    {
      "cell_type": "code",
      "metadata": {
        "id": "1Vk2WQcyst4q",
        "colab_type": "code",
        "colab": {}
      },
      "source": [
        "import datetime as dt # Used to deal with dates"
      ],
      "execution_count": 0,
      "outputs": []
    },
    {
      "cell_type": "code",
      "metadata": {
        "id": "MyH1EyaksJBH",
        "colab_type": "code",
        "outputId": "a7bdd52f-d4e8-48bf-9077-03ad63606ea5",
        "colab": {
          "base_uri": "https://localhost:8080/",
          "height": 221
        }
      },
      "source": [
        "# Overwrite column to be in datatime format\n",
        "# That is: YYYY/MM/DD -> YYYY-MM-DD\n",
        "data['Date_of_Journey'] = pd.to_datetime(data['Date_of_Journey'])\n",
        "data['Date_of_Journey']"
      ],
      "execution_count": 20,
      "outputs": [
        {
          "output_type": "execute_result",
          "data": {
            "text/plain": [
              "0       2019-03-24\n",
              "1       2019-01-05\n",
              "2       2019-09-06\n",
              "3       2019-12-05\n",
              "4       2019-01-03\n",
              "           ...    \n",
              "10678   2019-09-04\n",
              "10679   2019-04-27\n",
              "10680   2019-04-27\n",
              "10681   2019-01-03\n",
              "10682   2019-09-05\n",
              "Name: Date_of_Journey, Length: 10682, dtype: datetime64[ns]"
            ]
          },
          "metadata": {
            "tags": []
          },
          "execution_count": 20
        }
      ]
    },
    {
      "cell_type": "code",
      "metadata": {
        "id": "Bboi8CHCschm",
        "colab_type": "code",
        "outputId": "a1774d6a-c45a-4c1b-bb29-18b2c972ffa7",
        "colab": {
          "base_uri": "https://localhost:8080/",
          "height": 221
        }
      },
      "source": [
        "# getting the day of week of the journey \n",
        "data['day_of_week'] = data['Date_of_Journey'].dt.day_name()\n",
        "data['day_of_week']"
      ],
      "execution_count": 22,
      "outputs": [
        {
          "output_type": "execute_result",
          "data": {
            "text/plain": [
              "0           Sunday\n",
              "1         Saturday\n",
              "2           Friday\n",
              "3         Thursday\n",
              "4         Thursday\n",
              "           ...    \n",
              "10678    Wednesday\n",
              "10679     Saturday\n",
              "10680     Saturday\n",
              "10681     Thursday\n",
              "10682     Thursday\n",
              "Name: day_of_week, Length: 10682, dtype: object"
            ]
          },
          "metadata": {
            "tags": []
          },
          "execution_count": 22
        }
      ]
    },
    {
      "cell_type": "code",
      "metadata": {
        "id": "9a4dw9JFseNo",
        "colab_type": "code",
        "colab": {
          "base_uri": "https://localhost:8080/",
          "height": 221
        },
        "outputId": "74e51d07-a423-49e8-e726-967507d7f26b"
      },
      "source": [
        "data['Journey_Month'] = pd.DatetimeIndex(data['Date_of_Journey']).month\n",
        "data['Journey_Month']"
      ],
      "execution_count": 23,
      "outputs": [
        {
          "output_type": "execute_result",
          "data": {
            "text/plain": [
              "0         3\n",
              "1         1\n",
              "2         9\n",
              "3        12\n",
              "4         1\n",
              "         ..\n",
              "10678     9\n",
              "10679     4\n",
              "10680     4\n",
              "10681     1\n",
              "10682     9\n",
              "Name: Journey_Month, Length: 10682, dtype: int64"
            ]
          },
          "metadata": {
            "tags": []
          },
          "execution_count": 23
        }
      ]
    },
    {
      "cell_type": "markdown",
      "metadata": {
        "id": "RmS5WS_ktK3F",
        "colab_type": "text"
      },
      "source": [
        "ii) Now that you have these new columns, are these features ready for a machine learning model? Please explain.\n"
      ]
    },
    {
      "cell_type": "markdown",
      "metadata": {
        "id": "iH2zkCjLJrYD",
        "colab_type": "text"
      },
      "source": [
        "*italicized text*[YOUR ANSWER HERE]"
      ]
    },
    {
      "cell_type": "markdown",
      "metadata": {
        "id": "qyKIJfuVt7Yf",
        "colab_type": "text"
      },
      "source": [
        "#### c) Processing: Route\n",
        "\n",
        "Processing \"Route\" is tricky as they are all different lengthed strings. Why is this a problem? It doesn't have to be if we feed our algorithm an entry one by one but that can be slow. We want to utilize the fact computers are designed to do matrix operations quickly.\n",
        "\n",
        "To preprocess the \"Route\" column do the following:\n",
        "\n",
        "i) Separate the strings by the empty string using split().\n",
        "\n",
        "ii) Determine a vocabulary made up of each unique airport code and you may include the arrow that separates the codes.\n",
        "\n",
        "iii) Using this vocabulary information devise a way to make sure all the strings/features are the same size and **NO NEED TO IMPLEMENT** it. Discuss why you choose that method and any limitations you can think of. [HINT: Think about the vocabulary approach from above and an approach called one hot encoding.]\n"
      ]
    },
    {
      "cell_type": "code",
      "metadata": {
        "id": "XYu21YU6abky",
        "colab_type": "code",
        "outputId": "9a3343dd-45fe-4568-d8e4-17a6921c8096",
        "colab": {
          "base_uri": "https://localhost:8080/",
          "height": 54
        }
      },
      "source": [
        "# Step 1: seperate the strings by the empty string using split() \n",
        "code = data['Route'].str.split()\n",
        "\n",
        "# flatten the list from a list of lists, since we are only interested in\n",
        "# getting the airport codes, not the routes\n",
        "flat_list = []\n",
        "for sublist in code:\n",
        "    for item in sublist:\n",
        "      flat_list.append(item)\n",
        "      # remove arrow, since it is not part of the vocabulary\n",
        "      if(item == '→'): \n",
        "        flat_list.remove('→')\n",
        "        \n",
        "\n",
        "# Step 2: vocabulary called unique has each of the unique airport codes in order \n",
        "# by traversing through the list\n",
        "unique = []\n",
        "for x in flat_list:\n",
        "    if x not in unique:\n",
        "      unique.append(x)\n",
        "print(unique)\n",
        "\n",
        "\n",
        "\n",
        "\n",
        "\n",
        "\n"
      ],
      "execution_count": 30,
      "outputs": [
        {
          "output_type": "stream",
          "text": [
            "['BLR', 'DEL', 'CCU', 'IXR', 'BBI', 'LKO', 'BOM', 'COK', 'NAG', 'MAA', 'AMD', 'PNQ', 'IDR', 'GAU', 'HYD', 'BHO', 'JAI', 'ATQ', 'JDH', 'GOI', 'BDQ', 'TRV', 'IXU', 'IXB', 'UDR', 'RPR', 'DED', 'VGA', 'VNS', 'ISK', 'IXC', 'PAT', 'JLR', 'KNU', 'GWL', 'VTZ', 'NDC', 'HBX', 'IXZ', 'IMF', 'IXA', 'STV']\n"
          ],
          "name": "stdout"
        }
      ]
    },
    {
      "cell_type": "markdown",
      "metadata": {
        "id": "7dPE54VQSSTT",
        "colab_type": "text"
      },
      "source": [
        "First, we will assign an integer value to each of the airport codes, so 'BLR': 1, 'DEL': 2, 'CCU': 3, etc. We will use a mapping function to do this.  We can replace the unique integers with an array of 1's and 0's using one hot encoding, to represent which airport codes are present in the route. There will be a column for each of these airport routes. If an airport code is present in the route, it will be a 1, otherwise it will be a 0. This will ensure that the airport routes are all represented by the same length. However, since the airport codes are referred to by the column value, the column values cannot preserve the order of the airport route. We will know the airport codes on a particular route, but the drawback is, that we won't know the order of these airport codes.\n"
      ]
    },
    {
      "cell_type": "markdown",
      "metadata": {
        "id": "URdm0uwHySZH",
        "colab_type": "text"
      },
      "source": [
        "#### d) Feature Engineering\n",
        "Surprise surprise! We have been doing feature engineering all along by preprocessing the data and trasnforming or engineering it into a form a machine learning algorithm will expect.\n",
        "\n",
        "But this doesn't mean the features cannot be improved!\n",
        "\n",
        "Consider the \"Airline\" column from part a) each airline is mapped to a unique integer. Imagine a scenario where we have hundreds of unique airlines, the airline mapped to 100 for example would be weighted more than the airline mapped to 1. Similarly for columns \"Source\" and \"Destination\". To fix this discrepancy, we utilize standardization or normalization.\n",
        "\n",
        "Use standarization to map all the values in these columns to the range [0,1] by using the following expression: \n",
        "\n",
        "```scaled_value = (value - min) / (max - min)```."
      ]
    },
    {
      "cell_type": "code",
      "metadata": {
        "id": "7v_0hay52YTp",
        "colab_type": "code",
        "outputId": "c5b336a2-5815-40d7-b322-8e7da0beaf0e",
        "colab": {
          "base_uri": "https://localhost:8080/",
          "height": 445
        }
      },
      "source": [
        "# scaled value for Airline\n",
        "data['Airline'] = ((data['Airline']-data['Airline'].min())/(data['Airline'].max()-data['Airline'].min()))\n",
        "# scaled value for Source\n",
        "data['Source'] = ((data['Source']-data['Source'].min())/(data['Source'].max()-data['Source'].min()))\n",
        "# scaled value for Destination\n",
        "data['Destination'] = ((data['Destination']-data['Destination'].min())/(data['Destination'].max()-data['Destination'].min()))\n",
        "data.head()"
      ],
      "execution_count": 27,
      "outputs": [
        {
          "output_type": "execute_result",
          "data": {
            "text/html": [
              "<div>\n",
              "<style scoped>\n",
              "    .dataframe tbody tr th:only-of-type {\n",
              "        vertical-align: middle;\n",
              "    }\n",
              "\n",
              "    .dataframe tbody tr th {\n",
              "        vertical-align: top;\n",
              "    }\n",
              "\n",
              "    .dataframe thead th {\n",
              "        text-align: right;\n",
              "    }\n",
              "</style>\n",
              "<table border=\"1\" class=\"dataframe\">\n",
              "  <thead>\n",
              "    <tr style=\"text-align: right;\">\n",
              "      <th></th>\n",
              "      <th>Airline</th>\n",
              "      <th>Date_of_Journey</th>\n",
              "      <th>Source</th>\n",
              "      <th>Destination</th>\n",
              "      <th>Route</th>\n",
              "      <th>Dep_Time</th>\n",
              "      <th>Arrival_Time</th>\n",
              "      <th>Duration</th>\n",
              "      <th>Total_Stops</th>\n",
              "      <th>Additional_Info</th>\n",
              "      <th>Price</th>\n",
              "      <th>Journey_Month</th>\n",
              "      <th>day_of_week</th>\n",
              "    </tr>\n",
              "  </thead>\n",
              "  <tbody>\n",
              "    <tr>\n",
              "      <th>0</th>\n",
              "      <td>0.000000</td>\n",
              "      <td>2019-03-24</td>\n",
              "      <td>0.00</td>\n",
              "      <td>0.0</td>\n",
              "      <td>BLR → DEL</td>\n",
              "      <td>22:20</td>\n",
              "      <td>01:10 22 Mar</td>\n",
              "      <td>2h 50m</td>\n",
              "      <td>non-stop</td>\n",
              "      <td>No info</td>\n",
              "      <td>3897</td>\n",
              "      <td>3</td>\n",
              "      <td>Sunday</td>\n",
              "    </tr>\n",
              "    <tr>\n",
              "      <th>1</th>\n",
              "      <td>0.090909</td>\n",
              "      <td>2019-01-05</td>\n",
              "      <td>0.25</td>\n",
              "      <td>0.2</td>\n",
              "      <td>CCU → IXR → BBI → BLR</td>\n",
              "      <td>05:50</td>\n",
              "      <td>13:15</td>\n",
              "      <td>7h 25m</td>\n",
              "      <td>2 stops</td>\n",
              "      <td>No info</td>\n",
              "      <td>7662</td>\n",
              "      <td>1</td>\n",
              "      <td>Saturday</td>\n",
              "    </tr>\n",
              "    <tr>\n",
              "      <th>2</th>\n",
              "      <td>0.181818</td>\n",
              "      <td>2019-09-06</td>\n",
              "      <td>0.50</td>\n",
              "      <td>0.4</td>\n",
              "      <td>DEL → LKO → BOM → COK</td>\n",
              "      <td>09:25</td>\n",
              "      <td>04:25 10 Jun</td>\n",
              "      <td>19h</td>\n",
              "      <td>2 stops</td>\n",
              "      <td>No info</td>\n",
              "      <td>13882</td>\n",
              "      <td>9</td>\n",
              "      <td>Friday</td>\n",
              "    </tr>\n",
              "    <tr>\n",
              "      <th>3</th>\n",
              "      <td>0.000000</td>\n",
              "      <td>2019-12-05</td>\n",
              "      <td>0.25</td>\n",
              "      <td>0.2</td>\n",
              "      <td>CCU → NAG → BLR</td>\n",
              "      <td>18:05</td>\n",
              "      <td>23:30</td>\n",
              "      <td>5h 25m</td>\n",
              "      <td>1 stop</td>\n",
              "      <td>No info</td>\n",
              "      <td>6218</td>\n",
              "      <td>12</td>\n",
              "      <td>Thursday</td>\n",
              "    </tr>\n",
              "    <tr>\n",
              "      <th>4</th>\n",
              "      <td>0.000000</td>\n",
              "      <td>2019-01-03</td>\n",
              "      <td>0.00</td>\n",
              "      <td>0.0</td>\n",
              "      <td>BLR → NAG → DEL</td>\n",
              "      <td>16:50</td>\n",
              "      <td>21:35</td>\n",
              "      <td>4h 45m</td>\n",
              "      <td>1 stop</td>\n",
              "      <td>No info</td>\n",
              "      <td>13302</td>\n",
              "      <td>1</td>\n",
              "      <td>Thursday</td>\n",
              "    </tr>\n",
              "  </tbody>\n",
              "</table>\n",
              "</div>"
            ],
            "text/plain": [
              "    Airline Date_of_Journey  Source  ...  Price Journey_Month day_of_week\n",
              "0  0.000000      2019-03-24    0.00  ...   3897             3      Sunday\n",
              "1  0.090909      2019-01-05    0.25  ...   7662             1    Saturday\n",
              "2  0.181818      2019-09-06    0.50  ...  13882             9      Friday\n",
              "3  0.000000      2019-12-05    0.25  ...   6218            12    Thursday\n",
              "4  0.000000      2019-01-03    0.00  ...  13302             1    Thursday\n",
              "\n",
              "[5 rows x 13 columns]"
            ]
          },
          "metadata": {
            "tags": []
          },
          "execution_count": 27
        }
      ]
    }
  ]
}