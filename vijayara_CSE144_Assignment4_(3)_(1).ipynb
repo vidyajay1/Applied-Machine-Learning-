{
  "nbformat": 4,
  "nbformat_minor": 0,
  "metadata": {
    "accelerator": "GPU",
    "colab": {
      "name": "vijayara_CSE144_Assignment4_(3) (1).ipynb",
      "provenance": [],
      "collapsed_sections": [],
      "machine_shape": "hm"
    },
    "kernelspec": {
      "display_name": "Python 3",
      "language": "python",
      "name": "python3"
    },
    "language_info": {
      "codemirror_mode": {
        "name": "ipython",
        "version": 3
      },
      "file_extension": ".py",
      "mimetype": "text/x-python",
      "name": "python",
      "nbconvert_exporter": "python",
      "pygments_lexer": "ipython3",
      "version": "3.7.7"
    }
  },
  "cells": [
    {
      "cell_type": "markdown",
      "metadata": {
        "id": "KGDA0clbLhbp",
        "colab_type": "text"
      },
      "source": [
        "# **Assignment 4**\n",
        "\n",
        "Turn in the assignment via Canvas.\n",
        "\n",
        "To write legible answers you will need to be familiar with both [Markdown](https://github.com/adam-p/markdown-here/wiki/Markdown-Cheatsheet) and [Latex](https://www.latex-tutorial.com/tutorials/amsmath/)\n",
        "\n",
        "Before you turn this problem in, make sure everything runs as expected. First, restart the kernel (in the menubar, select Kernel→→Restart) and then run all cells (in the menubar, select Cell→→Run All).\n",
        "\n",
        "Make sure you fill in any place that says \"YOUR CODE HERE\" or \"YOUR ANSWER HERE\", as well as your name below:"
      ]
    },
    {
      "cell_type": "code",
      "metadata": {
        "id": "nOfazHDtoJxS",
        "colab_type": "code",
        "colab": {}
      },
      "source": [
        "NAME = \"Vidya Jayaraman\"\n",
        "STUDENT_ID = \"1620208\""
      ],
      "execution_count": 0,
      "outputs": []
    },
    {
      "cell_type": "markdown",
      "metadata": {
        "_uuid": "bca889c929920fd204e28dd8ba3bf747abfe4866",
        "id": "HwHNu13zLhbq",
        "colab_type": "text"
      },
      "source": [
        "#  Image Classification\n",
        "## Building a Convolutional Neural Network [CNN] from Scratch\n",
        "\n",
        "In this exercise, we will build a classifier model that is able to distinguish between 10 different classes of images - airplanes, cars, birds, cats, deer, dogs, frogs, horses, ships, and trucks. We will follow these steps:\n",
        "\n",
        "1. Explore the example data\n",
        "2. Build a small convnet to solve our classification problem\n",
        "3. Evaluate training and validation accuracy"
      ]
    },
    {
      "cell_type": "markdown",
      "metadata": {
        "id": "rxedzNz3Lhbq",
        "colab_type": "text"
      },
      "source": [
        "###  Data Exploration and Preparation\n",
        "\n",
        "We'll start by downloading the CIFAR-10 dataset from Keras.\n",
        "\n",
        "This is a link to the dataset documentation:\n",
        "https://keras.io/datasets/#cifar10-small-image-classification\n",
        "\n",
        "And a link to the dataset source:\n",
        "https://www.cs.toronto.edu/~kriz/cifar.html\n",
        "\n",
        "Be sure to set your Runtime environment to include a GPU, as it will speed up the training considerably (this time that's important!)."
      ]
    },
    {
      "cell_type": "markdown",
      "metadata": {
        "id": "hT9YYUNlLhbr",
        "colab_type": "text"
      },
      "source": [
        "#### Loading data into local variables"
      ]
    },
    {
      "cell_type": "code",
      "metadata": {
        "id": "qIPX5X2VLhbs",
        "colab_type": "code",
        "colab": {}
      },
      "source": [
        "from keras.datasets import cifar10\n",
        "\n",
        "# Fetch the data:\n",
        "(X, y), (_, _) = cifar10.load_data()"
      ],
      "execution_count": 0,
      "outputs": []
    },
    {
      "cell_type": "markdown",
      "metadata": {
        "_uuid": "892a9fe20cb70273b84d120b69e8d8cef65c7e80",
        "id": "sI_-5NB-Lhb3",
        "colab_type": "text"
      },
      "source": [
        "####  Import needed functions and libraries"
      ]
    },
    {
      "cell_type": "code",
      "metadata": {
        "_uuid": "743b574dc8902f9376b0293208139192ed5717d1",
        "colab_type": "code",
        "id": "z19bVm7o9zeu",
        "colab": {}
      },
      "source": [
        "# Ignore the warnings - Otherwise, TensorFlow tends to innundate one with far too many warnings.\n",
        "import warnings\n",
        "warnings.filterwarnings('always')\n",
        "warnings.filterwarnings('ignore')\n",
        "\n",
        "# For matrix operations and dataframes.\n",
        "import numpy as np\n",
        "\n",
        "# Data visualizaton.\n",
        "import matplotlib.pyplot as plt\n",
        "from matplotlib import style\n",
        "import seaborn as sns\n",
        "import random as rn\n",
        " \n",
        "# Configure some defaults.\n",
        "%matplotlib inline  \n",
        "style.use('fivethirtyeight')\n",
        "sns.set(style='whitegrid',color_codes=True)\n",
        "\n",
        "# Useful deep learning functions.\n",
        "from tensorflow.keras import backend as K\n",
        "from tensorflow.keras.models import Sequential\n",
        "from tensorflow.keras.layers import Dense\n",
        "from tensorflow.keras.optimizers import Adam, SGD, Adagrad, Adadelta, RMSprop \n",
        "from tensorflow.keras.utils import to_categorical\n",
        "from tensorflow.keras.layers import Dropout, Flatten, Activation, BatchNormalization\n",
        "from tensorflow.keras.layers import Conv2D, MaxPooling2D\n",
        "\n",
        "\n",
        "# Powerful deep learning module.\n",
        "import tensorflow as tf\n",
        "\n",
        "# For dealing with data.\n",
        "import numpy as np  "
      ],
      "execution_count": 0,
      "outputs": []
    },
    {
      "cell_type": "markdown",
      "metadata": {
        "_uuid": "c24f32b5ef905f9c4df2a020be4419a77c80237e",
        "id": "892A1wjvLhb7",
        "colab_type": "text"
      },
      "source": [
        "#### Data Preparation & Exploration"
      ]
    },
    {
      "cell_type": "markdown",
      "metadata": {
        "_uuid": "30f46a96158710351f4ccb4e0103c71404f58e7d",
        "id": "khaK4AW0LhcE",
        "colab_type": "text"
      },
      "source": [
        "Let's take a look at a few of these images. Rerun this cell multiple times to see different images for each class.\n",
        "\n",
        "You may notice that these images look low fidelity, which is because they are! As we increase our image size, we also increase our model complexity. What's important is that our classes are still distinguishable from each other."
      ]
    },
    {
      "cell_type": "code",
      "metadata": {
        "_uuid": "a27c478fcac8675aadd40f96fd144a805475b681",
        "colab_type": "code",
        "id": "gPolpADLYv9p",
        "scrolled": true,
        "outputId": "c025bdfc-8459-4618-f30d-77e49475235d",
        "colab": {
          "base_uri": "https://localhost:8080/",
          "height": 367
        }
      },
      "source": [
        "fig, ax = plt.subplots(2, 5)\n",
        "fig.set_size_inches(10, 6)\n",
        "\n",
        "for i in range(2):\n",
        "    for j in range(5):\n",
        "        c = j + 5*i # Class counter\n",
        "        l = np.random.choice(np.where(y == c)[0], 1)[0] # Get a random image from class c\n",
        "        ax[i, j].imshow(X[l])\n",
        "        ax[i, j].set_title('Class: ' + str(y[l]))\n",
        "        # Hide grid lines\n",
        "        ax[i, j].grid(False)\n",
        "        # Hide axes ticks\n",
        "        ax[i, j].set_xticks([])\n",
        "        ax[i, j].set_yticks([])\n",
        "        \n",
        "plt.tight_layout()"
      ],
      "execution_count": 0,
      "outputs": [
        {
          "output_type": "display_data",
          "data": {
            "image/png": "[encoded data removed]",
            "text/plain": [
              "<Figure size 720x432 with 10 Axes>"
            ]
          },
          "metadata": {
            "tags": []
          }
        }
      ]
    },
    {
      "cell_type": "markdown",
      "metadata": {
        "id": "vddd-xejqVV7",
        "colab_type": "text"
      },
      "source": [
        "#### Let's take a look at the format of our data"
      ]
    },
    {
      "cell_type": "code",
      "metadata": {
        "id": "aSmQVBA7qaxd",
        "colab_type": "code",
        "outputId": "68284881-cd65-4310-902d-1385bca2c025",
        "colab": {
          "base_uri": "https://localhost:8080/",
          "height": 51
        }
      },
      "source": [
        "print('X (images)', X.shape)\n",
        "print('y (classes)', y.shape)"
      ],
      "execution_count": 0,
      "outputs": [
        {
          "output_type": "stream",
          "text": [
            "X (images) (50000, 32, 32, 3)\n",
            "y (classes) (50000, 1)\n"
          ],
          "name": "stdout"
        }
      ]
    },
    {
      "cell_type": "markdown",
      "metadata": {
        "id": "ytuPNJQWqkZX",
        "colab_type": "text"
      },
      "source": [
        "We can see that we have 50,000 samples, where each images is 32 by 32 pixels with 3 color channels: RGB.\n",
        "\n",
        "For each of these images, we have a single label for which class they each belong to."
      ]
    },
    {
      "cell_type": "markdown",
      "metadata": {
        "_uuid": "77ec9e39e572f004918ea99a6866ee3a06c68324",
        "id": "NCS6ejuoLhcH",
        "colab_type": "text"
      },
      "source": [
        "#### One hot encode the labels, and normalize the data\n",
        "\n",
        "Similarly to previous exercises, we want to one hot encode our class labels. We also want to normalize our image data similarly to what we did in Assignment 3."
      ]
    },
    {
      "cell_type": "code",
      "metadata": {
        "id": "DT_F8m-vLhcI",
        "colab_type": "code",
        "colab": {}
      },
      "source": [
        "# One-hot encode those integer values of class labels\n",
        "y = to_categorical(y, 10)\n",
        "\n",
        "# Normalize all entries to the interval [0, 1]\n",
        "X = X / 255."
      ],
      "execution_count": 0,
      "outputs": []
    },
    {
      "cell_type": "markdown",
      "metadata": {
        "_uuid": "b8952f9ac2af66841a9c000126de56b44301d3ce",
        "id": "H9PP4rQhLhdD",
        "colab_type": "text"
      },
      "source": [
        "### Problem 1 (a)\n",
        "Create your own deep learning architecture, and train it on the dataset above. If you're unsure where to start, begin by referencing the in class exercises. \n",
        "\n",
        "One suggestion is to add several convolution layers each followed by a maxpooling layer. Towards the end you can add one or more fully connected layers. Dropout layers are often useful after each fully connected layer for overfitting, and you can try experimenting with that parameter. Your model should be able to reach **70% validation accuracy**.\n",
        "\n",
        "You are responsible for your model architecture, hyperparameters, and optimizer. \n",
        "\n",
        "**HOWEVER, you are limited to a maximum of 50 epochs and 500,000 model parameters! You will lose points for exceeding these limits.**"
      ]
    },
    {
      "cell_type": "code",
      "metadata": {
        "id": "mVjSUo_9LhdE",
        "colab_type": "code",
        "colab": {}
      },
      "source": [
        "# This is where we define the architecture of our deep neural network.\n",
        "model = Sequential()\n",
        "\n",
        "#when doing add, doing convolution block\n",
        "model.add(Conv2D(filters = 16,      \n",
        "                 kernel_size = (3, 3), \n",
        "                 padding = 'Same',\n",
        "                 activation = 'relu', \n",
        "                 #channel being defined in first convolution, each image 28 x28\n",
        "                 # only 1 channel here since gray scale, but in homework, it's 3 \n",
        "                 #since rgb \n",
        "                 \n",
        "                 input_shape = (32, 32, 3)))\n",
        "#add pooling block\n",
        "model.add(MaxPooling2D(pool_size = (2, 2)))\n",
        "model.add(Conv2D(filters = 32,      \n",
        "                 kernel_size = (3, 3), \n",
        "                 padding = 'Same',\n",
        "                 activation = 'relu'))\n",
        "model.add(BatchNormalization())\n",
        "#more convolution block\n",
        "model.add(Conv2D(filters = 32,      \n",
        "                 kernel_size = (3, 3), \n",
        "                 padding = 'Same',\n",
        "                 activation = 'relu'))\n",
        "\n",
        "model.add(MaxPooling2D(pool_size = (2, 2)))\n",
        "#put convolution and pooling in one input \n",
        "model.add(Flatten())\n",
        "#adding dropout layers before softmax to network helps and have parameter to specify what percentage of nodes will get dropped out \n",
        "# dropout of 0.5 that drops 50% of neurons in graph and that randomizes neurons \n",
        "#connections weighted by results of training \n",
        "#dropout in one place doesnt do it for whole network- does it for only one layer\n",
        "model.add(Dropout(0.5))\n",
        "model.add(Dense(20, activation = 'relu'))\n",
        "\n",
        "# A dense layer with 10 neurons (one per class).\n",
        "model.add(Dense(10, activation = \"softmax\"))"
      ],
      "execution_count": 0,
      "outputs": []
    },
    {
      "cell_type": "code",
      "metadata": {
        "id": "PO003fD15wop",
        "colab_type": "code",
        "colab": {}
      },
      "source": [
        "# A batch is the size of each training chunk. We're implementing batch gradient descent, which is in between\n",
        "# stochastic gradient descent and full gradient descent.\n",
        "batchsize = 200\n",
        "\n",
        "# Each epoch goes through the entire training set once\n",
        "epochs = 50"
      ],
      "execution_count": 0,
      "outputs": []
    },
    {
      "cell_type": "code",
      "metadata": {
        "id": "o4reatYS5edV",
        "colab_type": "code",
        "colab": {}
      },
      "source": [
        "opt = RMSprop(lr = 0.001)\n",
        "\n",
        "model.compile(optimizer = opt,\n",
        "              loss = 'categorical_crossentropy',\n",
        "              metrics = ['accuracy'])"
      ],
      "execution_count": 0,
      "outputs": []
    },
    {
      "cell_type": "code",
      "metadata": {
        "id": "0FDudYr552rv",
        "colab_type": "code",
        "outputId": "8de96da7-10aa-4847-84a8-b232f7e53c6f",
        "colab": {
          "base_uri": "https://localhost:8080/",
          "height": 493
        }
      },
      "source": [
        "model.summary()\n",
        "# MAXIMUM OF 500,000 PARAMETERS!"
      ],
      "execution_count": 0,
      "outputs": [
        {
          "output_type": "stream",
          "text": [
            "Model: \"sequential\"\n",
            "_________________________________________________________________\n",
            "Layer (type)                 Output Shape              Param #   \n",
            "=================================================================\n",
            "conv2d (Conv2D)              (None, 32, 32, 16)        448       \n",
            "_________________________________________________________________\n",
            "max_pooling2d (MaxPooling2D) (None, 16, 16, 16)        0         \n",
            "_________________________________________________________________\n",
            "conv2d_1 (Conv2D)            (None, 16, 16, 32)        4640      \n",
            "_________________________________________________________________\n",
            "batch_normalization (BatchNo (None, 16, 16, 32)        128       \n",
            "_________________________________________________________________\n",
            "conv2d_2 (Conv2D)            (None, 16, 16, 32)        9248      \n",
            "_________________________________________________________________\n",
            "max_pooling2d_1 (MaxPooling2 (None, 8, 8, 32)          0         \n",
            "_________________________________________________________________\n",
            "flatten (Flatten)            (None, 2048)              0         \n",
            "_________________________________________________________________\n",
            "dropout (Dropout)            (None, 2048)              0         \n",
            "_________________________________________________________________\n",
            "dense (Dense)                (None, 20)                40980     \n",
            "_________________________________________________________________\n",
            "dense_1 (Dense)              (None, 10)                210       \n",
            "=================================================================\n",
            "Total params: 55,654\n",
            "Trainable params: 55,590\n",
            "Non-trainable params: 64\n",
            "_________________________________________________________________\n"
          ],
          "name": "stdout"
        }
      ]
    },
    {
      "cell_type": "code",
      "metadata": {
        "id": "kK7nvHYr6P4J",
        "colab_type": "code",
        "outputId": "563707c8-e9aa-49b5-cc22-1fd6e97f7a44",
        "colab": {
          "base_uri": "https://localhost:8080/",
          "height": 1000
        }
      },
      "source": [
        "history = model.fit(X, \n",
        "                    y,\n",
        "                    batch_size = batchsize,\n",
        "                    epochs = epochs, \n",
        "                    validation_split = 0.2, # DON'T CHANGE validation_split!\n",
        "                    verbose = 1)"
      ],
      "execution_count": 0,
      "outputs": [
        {
          "output_type": "stream",
          "text": [
            "Epoch 1/50\n",
            "200/200 [==============================] - 2s 9ms/step - loss: 1.7790 - accuracy: 0.3498 - val_loss: 2.2255 - val_accuracy: 0.3494\n",
            "Epoch 2/50\n",
            "200/200 [==============================] - 1s 7ms/step - loss: 1.3868 - accuracy: 0.4952 - val_loss: 1.9646 - val_accuracy: 0.4232\n",
            "Epoch 3/50\n",
            "200/200 [==============================] - 1s 7ms/step - loss: 1.2181 - accuracy: 0.5648 - val_loss: 1.2953 - val_accuracy: 0.6028\n",
            "Epoch 4/50\n",
            "200/200 [==============================] - 1s 7ms/step - loss: 1.1107 - accuracy: 0.6048 - val_loss: 1.5253 - val_accuracy: 0.5142\n",
            "Epoch 5/50\n",
            "200/200 [==============================] - 1s 7ms/step - loss: 1.0418 - accuracy: 0.6311 - val_loss: 1.2304 - val_accuracy: 0.5778\n",
            "Epoch 6/50\n",
            "200/200 [==============================] - 1s 7ms/step - loss: 0.9963 - accuracy: 0.6503 - val_loss: 1.0829 - val_accuracy: 0.6208\n",
            "Epoch 7/50\n",
            "200/200 [==============================] - 1s 7ms/step - loss: 0.9566 - accuracy: 0.6620 - val_loss: 0.9650 - val_accuracy: 0.6574\n",
            "Epoch 8/50\n",
            "200/200 [==============================] - 1s 7ms/step - loss: 0.9241 - accuracy: 0.6742 - val_loss: 0.9802 - val_accuracy: 0.6574\n",
            "Epoch 9/50\n",
            "200/200 [==============================] - 1s 7ms/step - loss: 0.8987 - accuracy: 0.6816 - val_loss: 0.9502 - val_accuracy: 0.6760\n",
            "Epoch 10/50\n",
            "200/200 [==============================] - 1s 7ms/step - loss: 0.8754 - accuracy: 0.6925 - val_loss: 0.9199 - val_accuracy: 0.6768\n",
            "Epoch 11/50\n",
            "200/200 [==============================] - 1s 7ms/step - loss: 0.8530 - accuracy: 0.6993 - val_loss: 0.8654 - val_accuracy: 0.6981\n",
            "Epoch 12/50\n",
            "200/200 [==============================] - 1s 7ms/step - loss: 0.8354 - accuracy: 0.7085 - val_loss: 0.8780 - val_accuracy: 0.6887\n",
            "Epoch 13/50\n",
            "200/200 [==============================] - 1s 7ms/step - loss: 0.8200 - accuracy: 0.7111 - val_loss: 1.1017 - val_accuracy: 0.6376\n",
            "Epoch 14/50\n",
            "200/200 [==============================] - 1s 7ms/step - loss: 0.8041 - accuracy: 0.7160 - val_loss: 0.8961 - val_accuracy: 0.6886\n",
            "Epoch 15/50\n",
            "200/200 [==============================] - 1s 7ms/step - loss: 0.7960 - accuracy: 0.7204 - val_loss: 0.8107 - val_accuracy: 0.7223\n",
            "Epoch 16/50\n",
            "200/200 [==============================] - 1s 7ms/step - loss: 0.7828 - accuracy: 0.7244 - val_loss: 0.8265 - val_accuracy: 0.7173\n",
            "Epoch 17/50\n",
            "200/200 [==============================] - 1s 7ms/step - loss: 0.7718 - accuracy: 0.7283 - val_loss: 0.9168 - val_accuracy: 0.6854\n",
            "Epoch 18/50\n",
            "200/200 [==============================] - 1s 7ms/step - loss: 0.7576 - accuracy: 0.7322 - val_loss: 0.8640 - val_accuracy: 0.7034\n",
            "Epoch 19/50\n",
            "200/200 [==============================] - 1s 7ms/step - loss: 0.7513 - accuracy: 0.7337 - val_loss: 0.9150 - val_accuracy: 0.6961\n",
            "Epoch 20/50\n",
            "200/200 [==============================] - 1s 7ms/step - loss: 0.7392 - accuracy: 0.7395 - val_loss: 1.2865 - val_accuracy: 0.6023\n",
            "Epoch 21/50\n",
            "200/200 [==============================] - 1s 7ms/step - loss: 0.7354 - accuracy: 0.7427 - val_loss: 0.8690 - val_accuracy: 0.7006\n",
            "Epoch 22/50\n",
            "200/200 [==============================] - 1s 7ms/step - loss: 0.7189 - accuracy: 0.7469 - val_loss: 1.1538 - val_accuracy: 0.6227\n",
            "Epoch 23/50\n",
            "200/200 [==============================] - 1s 7ms/step - loss: 0.7189 - accuracy: 0.7475 - val_loss: 0.7959 - val_accuracy: 0.7227\n",
            "Epoch 24/50\n",
            "200/200 [==============================] - 1s 7ms/step - loss: 0.7102 - accuracy: 0.7495 - val_loss: 0.8459 - val_accuracy: 0.7084\n",
            "Epoch 25/50\n",
            "200/200 [==============================] - 1s 7ms/step - loss: 0.7049 - accuracy: 0.7518 - val_loss: 0.8679 - val_accuracy: 0.7100\n",
            "Epoch 26/50\n",
            "200/200 [==============================] - 1s 7ms/step - loss: 0.7032 - accuracy: 0.7508 - val_loss: 0.8235 - val_accuracy: 0.7216\n",
            "Epoch 27/50\n",
            "200/200 [==============================] - 1s 7ms/step - loss: 0.6926 - accuracy: 0.7559 - val_loss: 1.1360 - val_accuracy: 0.6436\n",
            "Epoch 28/50\n",
            "200/200 [==============================] - 1s 7ms/step - loss: 0.6864 - accuracy: 0.7570 - val_loss: 0.8541 - val_accuracy: 0.7095\n",
            "Epoch 29/50\n",
            "200/200 [==============================] - 1s 7ms/step - loss: 0.6840 - accuracy: 0.7590 - val_loss: 0.7919 - val_accuracy: 0.7254\n",
            "Epoch 30/50\n",
            "200/200 [==============================] - 1s 7ms/step - loss: 0.6830 - accuracy: 0.7598 - val_loss: 0.8453 - val_accuracy: 0.7118\n",
            "Epoch 31/50\n",
            "200/200 [==============================] - 1s 7ms/step - loss: 0.6723 - accuracy: 0.7599 - val_loss: 0.8401 - val_accuracy: 0.7085\n",
            "Epoch 32/50\n",
            "200/200 [==============================] - 1s 7ms/step - loss: 0.6627 - accuracy: 0.7659 - val_loss: 1.0048 - val_accuracy: 0.6673\n",
            "Epoch 33/50\n",
            "200/200 [==============================] - 1s 7ms/step - loss: 0.6664 - accuracy: 0.7655 - val_loss: 0.7627 - val_accuracy: 0.7437\n",
            "Epoch 34/50\n",
            "200/200 [==============================] - 1s 7ms/step - loss: 0.6561 - accuracy: 0.7673 - val_loss: 0.8173 - val_accuracy: 0.7219\n",
            "Epoch 35/50\n",
            "200/200 [==============================] - 1s 7ms/step - loss: 0.6592 - accuracy: 0.7663 - val_loss: 0.8803 - val_accuracy: 0.7086\n",
            "Epoch 36/50\n",
            "200/200 [==============================] - 1s 7ms/step - loss: 0.6505 - accuracy: 0.7693 - val_loss: 0.8220 - val_accuracy: 0.7204\n",
            "Epoch 37/50\n",
            "200/200 [==============================] - 1s 7ms/step - loss: 0.6470 - accuracy: 0.7709 - val_loss: 0.8234 - val_accuracy: 0.7293\n",
            "Epoch 38/50\n",
            "200/200 [==============================] - 1s 7ms/step - loss: 0.6501 - accuracy: 0.7705 - val_loss: 0.9215 - val_accuracy: 0.7044\n",
            "Epoch 39/50\n",
            "200/200 [==============================] - 1s 7ms/step - loss: 0.6403 - accuracy: 0.7726 - val_loss: 0.8804 - val_accuracy: 0.7044\n",
            "Epoch 40/50\n",
            "200/200 [==============================] - 1s 7ms/step - loss: 0.6363 - accuracy: 0.7741 - val_loss: 0.7697 - val_accuracy: 0.7422\n",
            "Epoch 41/50\n",
            "200/200 [==============================] - 1s 7ms/step - loss: 0.6335 - accuracy: 0.7762 - val_loss: 0.9827 - val_accuracy: 0.6821\n",
            "Epoch 42/50\n",
            "200/200 [==============================] - 1s 7ms/step - loss: 0.6313 - accuracy: 0.7774 - val_loss: 0.8464 - val_accuracy: 0.7152\n",
            "Epoch 43/50\n",
            "200/200 [==============================] - 1s 7ms/step - loss: 0.6292 - accuracy: 0.7774 - val_loss: 0.7869 - val_accuracy: 0.7321\n",
            "Epoch 44/50\n",
            "200/200 [==============================] - 1s 7ms/step - loss: 0.6220 - accuracy: 0.7813 - val_loss: 0.7734 - val_accuracy: 0.7347\n",
            "Epoch 45/50\n",
            "200/200 [==============================] - 1s 7ms/step - loss: 0.6275 - accuracy: 0.7769 - val_loss: 0.7629 - val_accuracy: 0.7459\n",
            "Epoch 46/50\n",
            "200/200 [==============================] - 1s 7ms/step - loss: 0.6209 - accuracy: 0.7801 - val_loss: 0.7967 - val_accuracy: 0.7254\n",
            "Epoch 47/50\n",
            "200/200 [==============================] - 1s 7ms/step - loss: 0.6186 - accuracy: 0.7805 - val_loss: 0.8058 - val_accuracy: 0.7257\n",
            "Epoch 48/50\n",
            "200/200 [==============================] - 1s 7ms/step - loss: 0.6146 - accuracy: 0.7838 - val_loss: 0.7338 - val_accuracy: 0.7510\n",
            "Epoch 49/50\n",
            "200/200 [==============================] - 1s 7ms/step - loss: 0.6112 - accuracy: 0.7832 - val_loss: 0.7370 - val_accuracy: 0.7517\n",
            "Epoch 50/50\n",
            "200/200 [==============================] - 1s 7ms/step - loss: 0.6078 - accuracy: 0.7847 - val_loss: 0.7790 - val_accuracy: 0.7379\n"
          ],
          "name": "stdout"
        }
      ]
    },
    {
      "cell_type": "markdown",
      "metadata": {
        "id": "-NrXxz4pLhdG",
        "colab_type": "text"
      },
      "source": [
        "### Problem 1 (b)\n",
        "Create training and validation loss and accuracy plots as above."
      ]
    },
    {
      "cell_type": "code",
      "metadata": {
        "id": "ri2mViLfLhdG",
        "colab_type": "code",
        "outputId": "2bc5537e-b4ab-45ac-ed9b-5f4b8077911a",
        "colab": {
          "base_uri": "https://localhost:8080/",
          "height": 617
        }
      },
      "source": [
        "plt.plot(history.history['loss'])\n",
        "plt.plot(history.history['val_loss'])\n",
        "plt.title('Model Loss')\n",
        "plt.ylabel('Loss')\n",
        "plt.xlabel('Epochs')\n",
        "plt.legend(['train', 'test'])\n",
        "plt.show()\n",
        "\n",
        "plt.plot(history.history['accuracy'])\n",
        "plt.plot(history.history['val_accuracy'])\n",
        "plt.title('Model Accuracy')\n",
        "plt.ylabel('Accuracy')\n",
        "plt.xlabel('Epochs')\n",
        "plt.legend(['train', 'test'])\n",
        "plt.show()"
      ],
      "execution_count": 0,
      "outputs": [
        {
          "output_type": "display_data",
          "data": {
            "image/png": "[encoded data removed]",
            "text/plain": [
              "<Figure size 432x288 with 1 Axes>"
            ]
          },
          "metadata": {
            "tags": []
          }
        },
        {
          "output_type": "display_data",
          "data": {
            "image/png": "[encoded data removed]",
            "text/plain": [
              "<Figure size 432x288 with 1 Axes>"
            ]
          },
          "metadata": {
            "tags": []
          }
        }
      ]
    },
    {
      "cell_type": "markdown",
      "metadata": {
        "id": "UHk-PPM8KfZW",
        "colab_type": "text"
      },
      "source": [
        "## Transfer Learning\n",
        "\n",
        "There's a huge shortcut possible in training neural networks for recognition tasks, called transfer learning. The idea is to start with a fully trained image recognition neural network, off the shelf with  trained weights. We can repurpose the trained network for your particular recognition task, making use of the days of training that were needed to find those weights. What was learned by the neural net in it's early layers are useful features in recognizing various things in images. Keras even has pretrained models built in for this purpose. \n",
        "\n",
        "#### Keras Pretrained Models\n",
        "        Xception\n",
        "        VGG16\n",
        "        VGG19\n",
        "        ResNet, ResNetV2, ResNeXt\n",
        "        InceptionV3\n",
        "        InceptionResNetV2\n",
        "        MobileNet\n",
        "        MobileNetV2\n",
        "        DenseNet\n",
        "        NASNet\n",
        "\n",
        "Usually one uses the layers of the pretrained model up to some point, and then creates some fully connected layers to learn the desired recognition task. The earlier layers are \"frozen\", and only the later layers need to be trained. We'll use VGG16, which was trained to recognize 1000 objects in ImageNet. What we're doing here for our CIFAR-10 classifier may be akin to killing a fly with a shotgun, but the same process can be used to recognize objects the original network couldn't (i.e., you could use this technique to train your computer to recognize family and friends)."
      ]
    },
    {
      "cell_type": "code",
      "metadata": {
        "id": "Z7CNXqACKgQz",
        "colab_type": "code",
        "colab": {}
      },
      "source": [
        "# Some stuff we'll need...\n",
        "from tensorflow.keras.layers import Input\n",
        "from tensorflow.keras.applications.vgg16 import VGG16, preprocess_input\n",
        "from tensorflow.keras.preprocessing import image\n",
        "from tensorflow.keras.models import Model"
      ],
      "execution_count": 0,
      "outputs": []
    },
    {
      "cell_type": "markdown",
      "metadata": {
        "id": "F4FK6jBJKxcC",
        "colab_type": "text"
      },
      "source": [
        "Creating this pretrained network is a one line command. Notice we specified that the \"top\" should not be included. We aren't classifying 1000 different categories like ImageNet, so we don't include that layer. We'll add our own layer more suited to the task at hand.\n",
        "\n",
        "We choose 224 as our image dimension because the pretrained VGG16 was trained using the ImageNet dataset which has images of this dimension."
      ]
    },
    {
      "cell_type": "code",
      "metadata": {
        "id": "KR7DziD7KqEX",
        "colab_type": "code",
        "outputId": "41ac628e-8858-478a-af97-e1b404474748",
        "colab": {
          "base_uri": "https://localhost:8080/",
          "height": 71
        }
      },
      "source": [
        "# Import the VGG16 trained neural network model, minus it's last (top) neuron layer.\n",
        "base_model = VGG16(weights = 'imagenet', \n",
        "                   include_top = False, \n",
        "                   input_shape = (32, 32, 3), \n",
        "                   pooling = None)"
      ],
      "execution_count": 0,
      "outputs": [
        {
          "output_type": "stream",
          "text": [
            "Downloading data from https://storage.googleapis.com/tensorflow/keras-applications/vgg16/vgg16_weights_tf_dim_ordering_tf_kernels_notop.h5\n",
            "58892288/58889256 [==============================] - 0s 0us/step\n"
          ],
          "name": "stdout"
        }
      ]
    },
    {
      "cell_type": "markdown",
      "metadata": {
        "id": "B6HReXu8K3wh",
        "colab_type": "text"
      },
      "source": [
        "Let's take a look at this pretrained model:"
      ]
    },
    {
      "cell_type": "code",
      "metadata": {
        "id": "gPhnajBAKyKm",
        "colab_type": "code",
        "outputId": "bedc47ac-5884-42cb-81bc-e6fc5e297a67",
        "colab": {
          "base_uri": "https://localhost:8080/",
          "height": 799
        }
      },
      "source": [
        "base_model.summary()"
      ],
      "execution_count": 0,
      "outputs": [
        {
          "output_type": "stream",
          "text": [
            "Model: \"vgg16\"\n",
            "_________________________________________________________________\n",
            "Layer (type)                 Output Shape              Param #   \n",
            "=================================================================\n",
            "input_37 (InputLayer)        [(None, 32, 32, 3)]       0         \n",
            "_________________________________________________________________\n",
            "block1_conv1 (Conv2D)        (None, 32, 32, 64)        1792      \n",
            "_________________________________________________________________\n",
            "block1_conv2 (Conv2D)        (None, 32, 32, 64)        36928     \n",
            "_________________________________________________________________\n",
            "block1_pool (MaxPooling2D)   (None, 16, 16, 64)        0         \n",
            "_________________________________________________________________\n",
            "block2_conv1 (Conv2D)        (None, 16, 16, 128)       73856     \n",
            "_________________________________________________________________\n",
            "block2_conv2 (Conv2D)        (None, 16, 16, 128)       147584    \n",
            "_________________________________________________________________\n",
            "block2_pool (MaxPooling2D)   (None, 8, 8, 128)         0         \n",
            "_________________________________________________________________\n",
            "block3_conv1 (Conv2D)        (None, 8, 8, 256)         295168    \n",
            "_________________________________________________________________\n",
            "block3_conv2 (Conv2D)        (None, 8, 8, 256)         590080    \n",
            "_________________________________________________________________\n",
            "block3_conv3 (Conv2D)        (None, 8, 8, 256)         590080    \n",
            "_________________________________________________________________\n",
            "block3_pool (MaxPooling2D)   (None, 4, 4, 256)         0         \n",
            "_________________________________________________________________\n",
            "block4_conv1 (Conv2D)        (None, 4, 4, 512)         1180160   \n",
            "_________________________________________________________________\n",
            "block4_conv2 (Conv2D)        (None, 4, 4, 512)         2359808   \n",
            "_________________________________________________________________\n",
            "block4_conv3 (Conv2D)        (None, 4, 4, 512)         2359808   \n",
            "_________________________________________________________________\n",
            "block4_pool (MaxPooling2D)   (None, 2, 2, 512)         0         \n",
            "_________________________________________________________________\n",
            "block5_conv1 (Conv2D)        (None, 2, 2, 512)         2359808   \n",
            "_________________________________________________________________\n",
            "block5_conv2 (Conv2D)        (None, 2, 2, 512)         2359808   \n",
            "_________________________________________________________________\n",
            "block5_conv3 (Conv2D)        (None, 2, 2, 512)         2359808   \n",
            "_________________________________________________________________\n",
            "block5_pool (MaxPooling2D)   (None, 1, 1, 512)         0         \n",
            "=================================================================\n",
            "Total params: 14,714,688\n",
            "Trainable params: 14,714,688\n",
            "Non-trainable params: 0\n",
            "_________________________________________________________________\n"
          ],
          "name": "stdout"
        }
      ]
    },
    {
      "cell_type": "markdown",
      "metadata": {
        "id": "OEeQ9WXTLA6i",
        "colab_type": "text"
      },
      "source": [
        "Please do realize, this may be overkill for our toy recognition task. One could use this network with some layers (as we're about to add) to recognize 100 dog breeds or to recognize all your friends. If you wanted to recognize 100 dog breeds, you would use a final 100 neuron softmax for the final layer. We'll need a final softmax layer as before. First let's freeze all these pretrained weights. They are fine as they are."
      ]
    },
    {
      "cell_type": "code",
      "metadata": {
        "id": "YTziRl8BK64Y",
        "colab_type": "code",
        "colab": {}
      },
      "source": [
        "# This freezes the weights of our VGG16 pretrained model.\n",
        "for layer in base_model.layers:  \n",
        "    layer.trainable = False"
      ],
      "execution_count": 0,
      "outputs": []
    },
    {
      "cell_type": "markdown",
      "metadata": {
        "id": "HhTrIRPbLMCB",
        "colab_type": "text"
      },
      "source": [
        "Now we'll add a flatten layer, a trainable dense layer, and a final softmax layer. This illustrates another way to create networks besides the sequential method we used for our example model.  This is the Keras functional approach to building networks. It's more flexible and more powerful than the sequential method. For example, it allows you to implement transfer learning."
      ]
    },
    {
      "cell_type": "code",
      "metadata": {
        "id": "YstHSchOLM7N",
        "colab_type": "code",
        "outputId": "f83db037-5342-4ffc-b2b5-49530a8c8848",
        "colab": {
          "base_uri": "https://localhost:8080/",
          "height": 901
        }
      },
      "source": [
        "# Now add layers to our pre-trained base model and add classification layers on top of it\n",
        "x = base_model.output\n",
        "x = Flatten()(x)\n",
        "x = Dense(64, activation = 'relu')(x)\n",
        "predic = Dense(10, activation = 'softmax')(x) \n",
        "\n",
        "# And now put this all together to create our new model.\n",
        "model = Model(inputs = base_model.input, outputs = predic) \n",
        "model.summary()"
      ],
      "execution_count": 0,
      "outputs": [
        {
          "output_type": "stream",
          "text": [
            "Model: \"model\"\n",
            "_________________________________________________________________\n",
            "Layer (type)                 Output Shape              Param #   \n",
            "=================================================================\n",
            "input_1 (InputLayer)         [(None, 32, 32, 3)]       0         \n",
            "_________________________________________________________________\n",
            "block1_conv1 (Conv2D)        (None, 32, 32, 64)        1792      \n",
            "_________________________________________________________________\n",
            "block1_conv2 (Conv2D)        (None, 32, 32, 64)        36928     \n",
            "_________________________________________________________________\n",
            "block1_pool (MaxPooling2D)   (None, 16, 16, 64)        0         \n",
            "_________________________________________________________________\n",
            "block2_conv1 (Conv2D)        (None, 16, 16, 128)       73856     \n",
            "_________________________________________________________________\n",
            "block2_conv2 (Conv2D)        (None, 16, 16, 128)       147584    \n",
            "_________________________________________________________________\n",
            "block2_pool (MaxPooling2D)   (None, 8, 8, 128)         0         \n",
            "_________________________________________________________________\n",
            "block3_conv1 (Conv2D)        (None, 8, 8, 256)         295168    \n",
            "_________________________________________________________________\n",
            "block3_conv2 (Conv2D)        (None, 8, 8, 256)         590080    \n",
            "_________________________________________________________________\n",
            "block3_conv3 (Conv2D)        (None, 8, 8, 256)         590080    \n",
            "_________________________________________________________________\n",
            "block3_pool (MaxPooling2D)   (None, 4, 4, 256)         0         \n",
            "_________________________________________________________________\n",
            "block4_conv1 (Conv2D)        (None, 4, 4, 512)         1180160   \n",
            "_________________________________________________________________\n",
            "block4_conv2 (Conv2D)        (None, 4, 4, 512)         2359808   \n",
            "_________________________________________________________________\n",
            "block4_conv3 (Conv2D)        (None, 4, 4, 512)         2359808   \n",
            "_________________________________________________________________\n",
            "block4_pool (MaxPooling2D)   (None, 2, 2, 512)         0         \n",
            "_________________________________________________________________\n",
            "block5_conv1 (Conv2D)        (None, 2, 2, 512)         2359808   \n",
            "_________________________________________________________________\n",
            "block5_conv2 (Conv2D)        (None, 2, 2, 512)         2359808   \n",
            "_________________________________________________________________\n",
            "block5_conv3 (Conv2D)        (None, 2, 2, 512)         2359808   \n",
            "_________________________________________________________________\n",
            "block5_pool (MaxPooling2D)   (None, 1, 1, 512)         0         \n",
            "_________________________________________________________________\n",
            "flatten_1 (Flatten)          (None, 512)               0         \n",
            "_________________________________________________________________\n",
            "dense_2 (Dense)              (None, 64)                32832     \n",
            "_________________________________________________________________\n",
            "dense_3 (Dense)              (None, 10)                650       \n",
            "=================================================================\n",
            "Total params: 14,748,170\n",
            "Trainable params: 33,482\n",
            "Non-trainable params: 14,714,688\n",
            "_________________________________________________________________\n"
          ],
          "name": "stdout"
        }
      ]
    },
    {
      "cell_type": "markdown",
      "metadata": {
        "id": "YMnWikXkLczn",
        "colab_type": "text"
      },
      "source": [
        "#### Initialize Training Parameters"
      ]
    },
    {
      "cell_type": "code",
      "metadata": {
        "id": "vqWwKwCBLhyZ",
        "colab_type": "code",
        "colab": {}
      },
      "source": [
        "# Compile the model.\n",
        "model.compile(loss = 'categorical_crossentropy',\n",
        "              optimizer = RMSprop(lr = 0.001),\n",
        "              metrics = ['acc'])"
      ],
      "execution_count": 0,
      "outputs": []
    },
    {
      "cell_type": "markdown",
      "metadata": {
        "id": "bUWfx4vYtblN",
        "colab_type": "text"
      },
      "source": [
        "We can see here in the Keras docs:\n",
        "\n",
        "https://keras.io/api/applications/vgg/#vgg16-function\n",
        "\n",
        "that we are required to preprocess our image data in a specific way to use this pretrained model, so let's go ahead and do that."
      ]
    },
    {
      "cell_type": "code",
      "metadata": {
        "id": "MX8s_zv6qM9G",
        "colab_type": "code",
        "colab": {}
      },
      "source": [
        "(X, y), (_, _) = cifar10.load_data()\n",
        "X = preprocess_input(X)\n",
        "y = to_categorical(y, 10)"
      ],
      "execution_count": 0,
      "outputs": []
    },
    {
      "cell_type": "code",
      "metadata": {
        "id": "m9U0HITqLl-7",
        "colab_type": "code",
        "outputId": "90d6b531-c454-408c-dd07-9fe4743910f1",
        "colab": {
          "base_uri": "https://localhost:8080/",
          "height": 697
        }
      },
      "source": [
        "# Let's also reduce the number of training epochs.\n",
        "epochs = 20\n",
        "batchsize = 200\n",
        "\n",
        "\n",
        "\n",
        "# Train the model\n",
        "history = model.fit(X, \n",
        "                    y,\n",
        "                    batch_size = batchsize,\n",
        "                    epochs = epochs, \n",
        "                    validation_split = 0.2,\n",
        "                    verbose = 1)"
      ],
      "execution_count": 0,
      "outputs": [
        {
          "output_type": "stream",
          "text": [
            "Epoch 1/20\n",
            "200/200 [==============================] - 4s 21ms/step - loss: 2.6534 - acc: 0.4455 - val_loss: 1.3983 - val_acc: 0.5364\n",
            "Epoch 2/20\n",
            "200/200 [==============================] - 4s 20ms/step - loss: 1.2334 - acc: 0.5888 - val_loss: 1.2192 - val_acc: 0.5983\n",
            "Epoch 3/20\n",
            "200/200 [==============================] - 4s 20ms/step - loss: 1.0584 - acc: 0.6416 - val_loss: 1.1624 - val_acc: 0.6142\n",
            "Epoch 4/20\n",
            "200/200 [==============================] - 4s 20ms/step - loss: 0.9628 - acc: 0.6700 - val_loss: 1.1332 - val_acc: 0.6313\n",
            "Epoch 5/20\n",
            "200/200 [==============================] - 4s 20ms/step - loss: 0.8974 - acc: 0.6905 - val_loss: 1.1403 - val_acc: 0.6302\n",
            "Epoch 6/20\n",
            "200/200 [==============================] - 4s 20ms/step - loss: 0.8515 - acc: 0.7043 - val_loss: 1.1350 - val_acc: 0.6361\n",
            "Epoch 7/20\n",
            "200/200 [==============================] - 4s 20ms/step - loss: 0.8110 - acc: 0.7187 - val_loss: 1.1546 - val_acc: 0.6391\n",
            "Epoch 8/20\n",
            "200/200 [==============================] - 4s 20ms/step - loss: 0.7783 - acc: 0.7290 - val_loss: 1.1644 - val_acc: 0.6438\n",
            "Epoch 9/20\n",
            "200/200 [==============================] - 4s 20ms/step - loss: 0.7500 - acc: 0.7383 - val_loss: 1.2028 - val_acc: 0.6381\n",
            "Epoch 10/20\n",
            "200/200 [==============================] - 4s 20ms/step - loss: 0.7227 - acc: 0.7456 - val_loss: 1.2111 - val_acc: 0.6324\n",
            "Epoch 11/20\n",
            "200/200 [==============================] - 4s 20ms/step - loss: 0.6975 - acc: 0.7556 - val_loss: 1.2475 - val_acc: 0.6394\n",
            "Epoch 12/20\n",
            "200/200 [==============================] - 4s 20ms/step - loss: 0.6779 - acc: 0.7624 - val_loss: 1.2585 - val_acc: 0.6335\n",
            "Epoch 13/20\n",
            "200/200 [==============================] - 4s 20ms/step - loss: 0.6561 - acc: 0.7693 - val_loss: 1.3121 - val_acc: 0.6319\n",
            "Epoch 14/20\n",
            "200/200 [==============================] - 4s 20ms/step - loss: 0.6370 - acc: 0.7745 - val_loss: 1.3535 - val_acc: 0.6265\n",
            "Epoch 15/20\n",
            "200/200 [==============================] - 4s 20ms/step - loss: 0.6185 - acc: 0.7832 - val_loss: 1.3931 - val_acc: 0.6282\n",
            "Epoch 16/20\n",
            "200/200 [==============================] - 4s 20ms/step - loss: 0.6041 - acc: 0.7879 - val_loss: 1.3950 - val_acc: 0.6240\n",
            "Epoch 17/20\n",
            "200/200 [==============================] - 4s 20ms/step - loss: 0.5890 - acc: 0.7923 - val_loss: 1.4568 - val_acc: 0.6273\n",
            "Epoch 18/20\n",
            "200/200 [==============================] - 4s 20ms/step - loss: 0.5768 - acc: 0.7960 - val_loss: 1.5022 - val_acc: 0.6262\n",
            "Epoch 19/20\n",
            "200/200 [==============================] - 4s 20ms/step - loss: 0.5639 - acc: 0.7990 - val_loss: 1.5585 - val_acc: 0.6194\n",
            "Epoch 20/20\n",
            "200/200 [==============================] - 4s 20ms/step - loss: 0.5509 - acc: 0.8053 - val_loss: 1.6064 - val_acc: 0.6185\n"
          ],
          "name": "stdout"
        }
      ]
    },
    {
      "cell_type": "markdown",
      "metadata": {
        "id": "0uhLqkIpiiBV",
        "colab_type": "text"
      },
      "source": [
        "Now that's better, about 80% accuracy on the train set, but only about 62% accuracy on the validation set (though each time this is run, a different result is obtained, so your results may vary), and with fewer epochs and trainable parameters than a network from scratch (such as Question 1). And we didn't need to add much to the output of our pretrained VGG16 network.\n",
        "\n",
        "Do notice that we are heavily overfitting though.\n"
      ]
    },
    {
      "cell_type": "code",
      "metadata": {
        "id": "cyezuk-2M1Gq",
        "colab_type": "code",
        "outputId": "363c8603-e6be-4cf0-890d-458eb77d77ac",
        "colab": {
          "base_uri": "https://localhost:8080/",
          "height": 617
        }
      },
      "source": [
        "plt.plot(history.history['loss'])\n",
        "plt.plot(history.history['val_loss'])\n",
        "plt.title('Model Loss')\n",
        "plt.ylabel('Loss')\n",
        "plt.xlabel('Epochs')\n",
        "plt.legend(['train', 'test'])\n",
        "plt.show()\n",
        "\n",
        "plt.plot(history.history['acc'])\n",
        "plt.plot(history.history['val_acc'])\n",
        "plt.title('Model Accuracy')\n",
        "plt.ylabel('Accuracy')\n",
        "plt.xlabel('Epochs')\n",
        "plt.legend(['train', 'test'])\n",
        "plt.show()"
      ],
      "execution_count": 0,
      "outputs": [
        {
          "output_type": "display_data",
          "data": {
            "image/png": "[encoded data removed]",
            "text/plain": [
              "<Figure size 432x288 with 1 Axes>"
            ]
          },
          "metadata": {
            "tags": []
          }
        },
        {
          "output_type": "display_data",
          "data": {
            "image/png": "[encoded data removed]",
            "text/plain": [
              "<Figure size 432x288 with 1 Axes>"
            ]
          },
          "metadata": {
            "tags": []
          }
        }
      ]
    },
    {
      "cell_type": "markdown",
      "metadata": {
        "id": "1Y8v3jO4jIMU",
        "colab_type": "text"
      },
      "source": [
        "### Problem 2(a)\n",
        "\n",
        "Add on your own last layers to the pretrained model and train it on the training data. You can increase (or decrease) the number of nodes per layer, increase (or decrease) the number of layers, and add dropout if your model is overfitting, change the hyperparameters, change your optimizer, etc. Try to get the validation accuracy higher than our example transfer learning model (shown above) was able to obtain, and try to minimize the amount of overfitting."
      ]
    },
    {
      "cell_type": "code",
      "metadata": {
        "id": "rXDiG-cdgsyZ",
        "colab_type": "code",
        "outputId": "18e1c366-3c73-48a0-bccc-9d95dc2e4101",
        "colab": {
          "base_uri": "https://localhost:8080/",
          "height": 1000
        }
      },
      "source": [
        "base_model = VGG16(weights = 'imagenet', \n",
        "                   include_top = False, \n",
        "                   input_shape = (32, 32, 3), \n",
        "                   pooling = None)\n",
        "\n",
        "x = base_model.output\n",
        "x = Flatten()(x)\n",
        "x = Dense(64, activation = 'relu')(x)\n",
        "x = Dense(96, activation = 'relu')(x)\n",
        "\n",
        "x = Dense(96, activation = 'relu')(x)\n",
        "#x = BatchNormalization()(x)\n",
        "x = Dense(64, activation = 'relu')(x)\n",
        "x = Dropout(0.5)(x)\n",
        "x = Dense(96, activation = 'relu')(x)\n",
        "x = Dense(64, activation = 'relu')(x)\n",
        "x = Dropout(0.5)(x)\n",
        "\n",
        "\n",
        "\n",
        "\n",
        "predic = Dense(10, activation = 'softmax')(x) \n",
        "\n",
        "# And now put this all together to create our new model.\n",
        "model = Model(inputs = base_model.input, outputs = predic) \n",
        "model.summary()"
      ],
      "execution_count": 0,
      "outputs": [
        {
          "output_type": "stream",
          "text": [
            "Model: \"model_2\"\n",
            "_________________________________________________________________\n",
            "Layer (type)                 Output Shape              Param #   \n",
            "=================================================================\n",
            "input_3 (InputLayer)         [(None, 32, 32, 3)]       0         \n",
            "_________________________________________________________________\n",
            "block1_conv1 (Conv2D)        (None, 32, 32, 64)        1792      \n",
            "_________________________________________________________________\n",
            "block1_conv2 (Conv2D)        (None, 32, 32, 64)        36928     \n",
            "_________________________________________________________________\n",
            "block1_pool (MaxPooling2D)   (None, 16, 16, 64)        0         \n",
            "_________________________________________________________________\n",
            "block2_conv1 (Conv2D)        (None, 16, 16, 128)       73856     \n",
            "_________________________________________________________________\n",
            "block2_conv2 (Conv2D)        (None, 16, 16, 128)       147584    \n",
            "_________________________________________________________________\n",
            "block2_pool (MaxPooling2D)   (None, 8, 8, 128)         0         \n",
            "_________________________________________________________________\n",
            "block3_conv1 (Conv2D)        (None, 8, 8, 256)         295168    \n",
            "_________________________________________________________________\n",
            "block3_conv2 (Conv2D)        (None, 8, 8, 256)         590080    \n",
            "_________________________________________________________________\n",
            "block3_conv3 (Conv2D)        (None, 8, 8, 256)         590080    \n",
            "_________________________________________________________________\n",
            "block3_pool (MaxPooling2D)   (None, 4, 4, 256)         0         \n",
            "_________________________________________________________________\n",
            "block4_conv1 (Conv2D)        (None, 4, 4, 512)         1180160   \n",
            "_________________________________________________________________\n",
            "block4_conv2 (Conv2D)        (None, 4, 4, 512)         2359808   \n",
            "_________________________________________________________________\n",
            "block4_conv3 (Conv2D)        (None, 4, 4, 512)         2359808   \n",
            "_________________________________________________________________\n",
            "block4_pool (MaxPooling2D)   (None, 2, 2, 512)         0         \n",
            "_________________________________________________________________\n",
            "block5_conv1 (Conv2D)        (None, 2, 2, 512)         2359808   \n",
            "_________________________________________________________________\n",
            "block5_conv2 (Conv2D)        (None, 2, 2, 512)         2359808   \n",
            "_________________________________________________________________\n",
            "block5_conv3 (Conv2D)        (None, 2, 2, 512)         2359808   \n",
            "_________________________________________________________________\n",
            "block5_pool (MaxPooling2D)   (None, 1, 1, 512)         0         \n",
            "_________________________________________________________________\n",
            "flatten_3 (Flatten)          (None, 512)               0         \n",
            "_________________________________________________________________\n",
            "dense_11 (Dense)             (None, 64)                32832     \n",
            "_________________________________________________________________\n",
            "dense_12 (Dense)             (None, 96)                6240      \n",
            "_________________________________________________________________\n",
            "dense_13 (Dense)             (None, 96)                9312      \n",
            "_________________________________________________________________\n",
            "dense_14 (Dense)             (None, 64)                6208      \n",
            "_________________________________________________________________\n",
            "dropout_3 (Dropout)          (None, 64)                0         \n",
            "_________________________________________________________________\n",
            "dense_15 (Dense)             (None, 96)                6240      \n",
            "_________________________________________________________________\n",
            "dense_16 (Dense)             (None, 64)                6208      \n",
            "_________________________________________________________________\n",
            "dropout_4 (Dropout)          (None, 64)                0         \n",
            "_________________________________________________________________\n",
            "dense_17 (Dense)             (None, 10)                650       \n",
            "=================================================================\n",
            "Total params: 14,782,378\n",
            "Trainable params: 14,782,378\n",
            "Non-trainable params: 0\n",
            "_________________________________________________________________\n"
          ],
          "name": "stdout"
        }
      ]
    },
    {
      "cell_type": "code",
      "metadata": {
        "id": "-L3MDnyaj--5",
        "colab_type": "code",
        "colab": {}
      },
      "source": [
        "# Compile the model.\n",
        "\n",
        "model.compile(optimizer = Adam(lr = 0.001),\n",
        "              loss = 'categorical_crossentropy', \n",
        "              metrics = ['accuracy'])"
      ],
      "execution_count": 0,
      "outputs": []
    },
    {
      "cell_type": "code",
      "metadata": {
        "id": "hFFiPnzekCi9",
        "colab_type": "code",
        "outputId": "e41156c8-966a-47d4-e01c-5f7beb629303",
        "colab": {
          "base_uri": "https://localhost:8080/",
          "height": 717
        }
      },
      "source": [
        "epochs = 20 ### Leave the epochs at 20 ###\n",
        "\n",
        "batchsize =200\n",
        "\n",
        "# Train the model\n",
        "\n",
        "history = model.fit(X, \n",
        "                    y,\n",
        "                    batch_size = batchsize,\n",
        "                    epochs = epochs, \n",
        "                    validation_split = 0.2,\n",
        "                    verbose = 1)"
      ],
      "execution_count": 0,
      "outputs": [
        {
          "output_type": "stream",
          "text": [
            "Epoch 1/20\n",
            "200/200 [==============================] - 10s 51ms/step - loss: 2.4235 - accuracy: 0.1112 - val_loss: 2.2517 - val_accuracy: 0.1714\n",
            "Epoch 2/20\n",
            "200/200 [==============================] - 10s 50ms/step - loss: 2.0919 - accuracy: 0.1719 - val_loss: 1.9003 - val_accuracy: 0.2062\n",
            "Epoch 3/20\n",
            "200/200 [==============================] - 10s 50ms/step - loss: 1.9358 - accuracy: 0.2003 - val_loss: 1.8244 - val_accuracy: 0.2514\n",
            "Epoch 4/20\n",
            "200/200 [==============================] - 10s 50ms/step - loss: 1.8504 - accuracy: 0.2375 - val_loss: 1.7900 - val_accuracy: 0.2716\n",
            "Epoch 5/20\n",
            "200/200 [==============================] - 10s 50ms/step - loss: 1.7856 - accuracy: 0.2648 - val_loss: 1.7269 - val_accuracy: 0.3103\n",
            "Epoch 6/20\n",
            "200/200 [==============================] - 10s 50ms/step - loss: 1.6750 - accuracy: 0.3179 - val_loss: 1.5616 - val_accuracy: 0.3639\n",
            "Epoch 7/20\n",
            "200/200 [==============================] - 10s 50ms/step - loss: 1.5264 - accuracy: 0.3909 - val_loss: 1.3777 - val_accuracy: 0.4590\n",
            "Epoch 8/20\n",
            "200/200 [==============================] - 10s 50ms/step - loss: 1.4059 - accuracy: 0.4414 - val_loss: 1.3005 - val_accuracy: 0.4828\n",
            "Epoch 9/20\n",
            "200/200 [==============================] - 10s 50ms/step - loss: 1.2916 - accuracy: 0.4834 - val_loss: 1.2602 - val_accuracy: 0.5080\n",
            "Epoch 10/20\n",
            "200/200 [==============================] - 10s 50ms/step - loss: 1.2598 - accuracy: 0.5059 - val_loss: 1.3273 - val_accuracy: 0.4747\n",
            "Epoch 11/20\n",
            "200/200 [==============================] - 10s 50ms/step - loss: 1.1542 - accuracy: 0.5552 - val_loss: 1.1506 - val_accuracy: 0.5903\n",
            "Epoch 12/20\n",
            "200/200 [==============================] - 10s 50ms/step - loss: 1.0482 - accuracy: 0.6098 - val_loss: 1.0602 - val_accuracy: 0.6119\n",
            "Epoch 13/20\n",
            "200/200 [==============================] - 10s 50ms/step - loss: 0.9752 - accuracy: 0.6442 - val_loss: 1.0617 - val_accuracy: 0.6290\n",
            "Epoch 14/20\n",
            "200/200 [==============================] - 10s 50ms/step - loss: 0.9101 - accuracy: 0.6724 - val_loss: 1.0026 - val_accuracy: 0.6441\n",
            "Epoch 15/20\n",
            "200/200 [==============================] - 10s 50ms/step - loss: 0.8379 - accuracy: 0.7054 - val_loss: 0.9499 - val_accuracy: 0.6800\n",
            "Epoch 16/20\n",
            "200/200 [==============================] - 10s 50ms/step - loss: 0.7967 - accuracy: 0.7254 - val_loss: 0.8743 - val_accuracy: 0.7156\n",
            "Epoch 17/20\n",
            "200/200 [==============================] - 10s 50ms/step - loss: 0.7031 - accuracy: 0.7649 - val_loss: 0.8828 - val_accuracy: 0.7138\n",
            "Epoch 18/20\n",
            "200/200 [==============================] - 10s 50ms/step - loss: 0.6681 - accuracy: 0.7749 - val_loss: 0.8902 - val_accuracy: 0.7129\n",
            "Epoch 19/20\n",
            "200/200 [==============================] - 10s 50ms/step - loss: 0.6357 - accuracy: 0.7862 - val_loss: 0.8265 - val_accuracy: 0.7397\n",
            "Epoch 20/20\n",
            "200/200 [==============================] - 10s 50ms/step - loss: 0.5726 - accuracy: 0.8106 - val_loss: 0.8280 - val_accuracy: 0.7322\n"
          ],
          "name": "stdout"
        }
      ]
    },
    {
      "cell_type": "markdown",
      "metadata": {
        "id": "SzkmJfSClLqZ",
        "colab_type": "text"
      },
      "source": [
        "### Problem 2(b)\n",
        "\n",
        "Create training and validation loss and accuracy plots for this model.\n"
      ]
    },
    {
      "cell_type": "code",
      "metadata": {
        "id": "k3Ga76rjlUj1",
        "colab_type": "code",
        "outputId": "f30ea72e-a06d-4b00-bf36-00bab264d83a",
        "colab": {
          "base_uri": "https://localhost:8080/",
          "height": 617
        }
      },
      "source": [
        "plt.plot(history.history['loss'])\n",
        "plt.plot(history.history['val_loss'])\n",
        "plt.title('Model Loss')\n",
        "plt.ylabel('Loss')\n",
        "plt.xlabel('Epochs')\n",
        "plt.legend(['train', 'test'])\n",
        "plt.show()\n",
        "\n",
        "plt.plot(history.history['accuracy'])\n",
        "plt.plot(history.history['val_accuracy'])\n",
        "plt.title('Model Accuracy')\n",
        "plt.ylabel('Accuracy')\n",
        "plt.xlabel('Epochs')\n",
        "plt.legend(['train', 'test'])\n",
        "plt.show()"
      ],
      "execution_count": 0,
      "outputs": [
        {
          "output_type": "display_data",
          "data": {
            "image/png": "[encoded data removed]",
            "text/plain": [
              "<Figure size 432x288 with 1 Axes>"
            ]
          },
          "metadata": {
            "tags": []
          }
        },
        {
          "output_type": "display_data",
          "data": {
            "image/png": "[encoded data removed]",
            "text/plain": [
              "<Figure size 432x288 with 1 Axes>"
            ]
          },
          "metadata": {
            "tags": []
          }
        }
      ]
    },
    {
      "cell_type": "markdown",
      "metadata": {
        "id": "UbubSpWlnoo3",
        "colab_type": "text"
      },
      "source": [
        "### Problem 2 (c)\n",
        "\n",
        "- What did you add in your transfer learning model after the VGG16 portion? \n",
        "\n",
        "- What did you try that didn't work?\n",
        "\n",
        "- What optimizer and hyperparameters did you go with and why?\n",
        "\n",
        "- How much did it improve over the example transfer learning model we provided?\n"
      ]
    },
    {
      "cell_type": "markdown",
      "metadata": {
        "id": "D5B4P7mCnpIY",
        "colab_type": "text"
      },
      "source": [
        "I added in more dense layers using 'relu' activation. I also used RMSprop at first, but there was a lot of underfitting and the training loss for the epoch 1 was at 4.6, while the validation loss was around 1.5. This made the training data underfit a lot at epoch 1. Moreover, the validation loss did not reduce as much as the training data. It also caused some of the training losses to fluctuate and there were a couple points on the training loss that were outliers. Therefore, I changed the optimizer to Adam. This fixed the the outliers in the data. And since the hyperparameters required little tuning, Adam was a better optimizer. So, there was a smaller difference between the training and validation loss points and they follow a similar pattern. \n",
        "\n",
        "I first added in batch normalization, which did not work that well, since it caused some of the training losses to fluctuate a lot for some of the points and it also caused outliers in the data points. For one of the epochs, the validation loss increased sharply, and then decreased sharply on the next epoch. I also realized batch normalization did not reduce over/underfitting as much as changing the optimizer to Adam did, so I did not use batch normalization. When I used RMSprop, I also originally only had one dropout layer at 0.5, since having 2 dropout layers made the validation accuracy stay at 0.09. Once I changed my optimizer to Adam, I noticed that adding in more dropout layers helped.\n",
        "\n",
        " I was easily able to get the accuracy to be over 70, but the issue was the outliers in the data point,as well as the underfitting and overfitting. Therefore, I had to tune my parameters to prevent this. The biggest way to fix this, especially with preventing my data from underfitting or overfitting, was changing my optimizer to use Adam. My final validation accuracy was around 73. \n",
        " "
      ]
    },
    {
      "cell_type": "markdown",
      "metadata": {
        "id": "y49iI0-IlXyv",
        "colab_type": "text"
      },
      "source": [
        "### Problem 2 (d)\n",
        "\n",
        "Does your final model show signs of underfitting or overfitting? Explain why you think so.\n",
        "\n"
      ]
    },
    {
      "cell_type": "markdown",
      "metadata": {
        "id": "Wf-_VgKhnxhU",
        "colab_type": "text"
      },
      "source": [
        "**YOUR ANSWER**\n",
        "My final model does not show big signs of underfitting or overfitting. This is because the training loss and validation loss are very similar. And the training accuracy and validation accuracy are very similar. The losses both decrease the entire time. The accuracies both increase the entire time. And their slopes are similar. On the first epoch, the validation loss starts slightly lower than the training loss. And the validation accuracy is slightly higher than the training loss. At around epoch 8 to 10, the losses and accuracies are similar. And then for the second half of the epochs (10-20), there is slight overfitting where the training loss is higher than the validation loss. And the validation accuracy is lower than than the training accuracy. The graph in 2b)shows less overfitting than the initialize graph, since the training and accuracy values have a smaller difference. Most of my focus for 2a) was making sure that my final model was not overfitting or underfitting, since the validation accuracies were usually high enough. "
      ]
    }
  ]
}