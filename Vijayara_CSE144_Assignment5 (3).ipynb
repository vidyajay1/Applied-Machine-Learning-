{
  "nbformat": 4,
  "nbformat_minor": 0,
  "metadata": {
    "colab": {
      "name": "Vijayara_CSE144_Assignment5.ipynb",
      "provenance": [],
      "collapsed_sections": []
    },
    "kernelspec": {
      "name": "python3",
      "display_name": "Python 3"
    },
    "accelerator": "GPU"
  },
  "cells": [
    {
      "cell_type": "markdown",
      "metadata": {
        "id": "rzPAjr9ZjDtZ",
        "colab_type": "text"
      },
      "source": [
        "# **Assignment 5**\n",
        "\n",
        "Turn in the assignment via Canvas.\n",
        "\n",
        "To write legible answers you will need to be familiar with both [Markdown](https://github.com/adam-p/markdown-here/wiki/Markdown-Cheatsheet) and [Latex](https://www.latex-tutorial.com/tutorials/amsmath/)\n",
        "\n",
        "Before you turn this problem in, make sure everything runs as expected. First, restart the kernel (in the menubar, select Kernel→→Restart) and then run all cells (in the menubar, select Cell→→Run All).\n",
        "\n",
        "Make sure you fill in any place that says \"YOUR CODE HERE\" or \"YOUR ANSWER HERE\", as well as your name below:"
      ]
    },
    {
      "cell_type": "code",
      "metadata": {
        "id": "Ziuazg-CjLVI",
        "colab_type": "code",
        "colab": {}
      },
      "source": [
        "NAME = \"Vidya Jayaraman\"\n",
        "STUDENT_ID = \"1620208\""
      ],
      "execution_count": 0,
      "outputs": []
    },
    {
      "cell_type": "markdown",
      "metadata": {
        "id": "1YfcFRQ4jJKm",
        "colab_type": "text"
      },
      "source": [
        "Some imports we will need:"
      ]
    },
    {
      "cell_type": "code",
      "metadata": {
        "id": "1rZymfh6jGQS",
        "colab_type": "code",
        "colab": {}
      },
      "source": [
        "import tensorflow as tf\n",
        "from tensorflow.keras.datasets import reuters\n",
        "import matplotlib.pyplot as plt\n",
        "import numpy as np\n",
        "import string\n",
        "import textwrap\n",
        "from tensorflow.keras.preprocessing.sequence import pad_sequences\n",
        "from tensorflow.keras.utils import to_categorical\n",
        "from tensorflow.keras.layers import Embedding, Dense, Dropout, Input, LSTM, GRU, Bidirectional, Flatten\n",
        "from tensorflow.keras.models import Model"
      ],
      "execution_count": 0,
      "outputs": []
    },
    {
      "cell_type": "markdown",
      "metadata": {
        "id": "ujebcap3t1TV",
        "colab_type": "text"
      },
      "source": [
        "We will be expanding on the in class exercise and doing classification using an RNN but now with multiple labels instead of binary labels.\n",
        "\n",
        "We will be using the [Reuters newswire](https://keras.io/api/datasets/reuters/) classification dataset, which has text paired with 46 topics as labels. You can see what these labels represent [here](https://martin-thoma.com/nlp-reuters/).\n",
        "\n",
        "Let's load the data:"
      ]
    },
    {
      "cell_type": "code",
      "metadata": {
        "id": "NjNkh8CYt0a0",
        "colab_type": "code",
        "outputId": "99e8cd21-f579-4ffd-9ddc-7cdcf3740d09",
        "colab": {
          "base_uri": "https://localhost:8080/",
          "height": 51
        }
      },
      "source": [
        "(X_train, y_train), (_, _) = reuters.load_data()"
      ],
      "execution_count": 0,
      "outputs": [
        {
          "output_type": "stream",
          "text": [
            "Downloading data from https://storage.googleapis.com/tensorflow/tf-keras-datasets/reuters.npz\n",
            "2113536/2110848 [==============================] - 0s 0us/step\n"
          ],
          "name": "stdout"
        }
      ]
    },
    {
      "cell_type": "code",
      "metadata": {
        "id": "3EPRNPl6wLN0",
        "colab_type": "code",
        "outputId": "2c53b6a6-ffc0-4cbb-fd30-d330d875e352",
        "colab": {
          "base_uri": "https://localhost:8080/",
          "height": 51
        }
      },
      "source": [
        "# https://stackoverflow.com/questions/42821330/restore-original-text-from-keras-s-imdb-dataset\n",
        "# Needed to encode our own reviews later\n",
        "\n",
        "word_dict = reuters.get_word_index()\n",
        "word_dict = {k:(v+3) for k,v in word_dict.items()}\n",
        "word_dict[\"<PAD>\"] = 0\n",
        "word_dict[\"<START>\"] = 1\n",
        "word_dict[\"<UNK>\"] = 2\n",
        "word_dict[\"<UNUSED>\"] = 3\n",
        "\n",
        "vocab_size = len(word_dict.keys())"
      ],
      "execution_count": 0,
      "outputs": [
        {
          "output_type": "stream",
          "text": [
            "Downloading data from https://storage.googleapis.com/tensorflow/tf-keras-datasets/reuters_word_index.json\n",
            "557056/550378 [==============================] - 0s 0us/step\n"
          ],
          "name": "stdout"
        }
      ]
    },
    {
      "cell_type": "code",
      "metadata": {
        "id": "0gcJ_YdLwP3z",
        "colab_type": "code",
        "colab": {}
      },
      "source": [
        "# Needed to decode training data into readable text\n",
        "\n",
        "inverse_word_dict = {value:key for key,value in word_dict.items()}"
      ],
      "execution_count": 0,
      "outputs": []
    },
    {
      "cell_type": "code",
      "metadata": {
        "id": "6QN8l1ZewUrR",
        "colab_type": "code",
        "outputId": "2b5cc458-483a-4712-afc0-f55dbd0d9971",
        "colab": {
          "base_uri": "https://localhost:8080/",
          "height": 34
        }
      },
      "source": [
        "X_train = np.array(X_train)\n",
        "X_train = pad_sequences(X_train)\n",
        "\n",
        "max_sequence_len = X_train[0].shape[0]\n",
        "print('Padded to longest sequence length: ', max_sequence_len)"
      ],
      "execution_count": 0,
      "outputs": [
        {
          "output_type": "stream",
          "text": [
            "Padded to longest sequence length:  2376\n"
          ],
          "name": "stdout"
        }
      ]
    },
    {
      "cell_type": "code",
      "metadata": {
        "id": "uc11NQ0f0KO4",
        "colab_type": "code",
        "colab": {}
      },
      "source": [
        "y_train = to_categorical(y_train, 46)\n",
        "y_train = np.array(y_train)"
      ],
      "execution_count": 0,
      "outputs": []
    },
    {
      "cell_type": "code",
      "metadata": {
        "id": "POGKpaJowwuu",
        "colab_type": "code",
        "outputId": "f31f8f5c-fd01-447b-a248-c34ffc92beb9",
        "colab": {
          "base_uri": "https://localhost:8080/",
          "height": 34
        }
      },
      "source": [
        "print('Number of words in vocabulary: ', vocab_size)"
      ],
      "execution_count": 0,
      "outputs": [
        {
          "output_type": "stream",
          "text": [
            "Number of words in vocabulary:  30983\n"
          ],
          "name": "stdout"
        }
      ]
    },
    {
      "cell_type": "code",
      "metadata": {
        "id": "tuFotR_aw1U4",
        "colab_type": "code",
        "colab": {}
      },
      "source": [
        "def encode_text(text, word_dict, maxlen):\n",
        "  encoded_text = []\n",
        "  for raw_word in text.split(' '):\n",
        "    word = raw_word.strip().strip(string.punctuation).lower()\n",
        "    if word is '' or word is '\\n':\n",
        "      continue\n",
        "    try:\n",
        "      encoded_text.append(word_dict[word])\n",
        "    except KeyError as e:\n",
        "      # raise KeyError(f'{e} not in word dictionary, text not encoded.')\n",
        "      continue\n",
        "  return pad_sequences(np.array(encoded_text).reshape(1,-1), maxlen=maxlen)\n",
        "\n",
        "def decode_text(encoded_text, inverse_word_dict):\n",
        "  sentence = []\n",
        "  for encoded_word in encoded_text:\n",
        "    if encoded_word == 0:\n",
        "      continue\n",
        "    sentence.append(inverse_word_dict[encoded_word])\n",
        "  w = textwrap.TextWrapper(width=120,break_long_words=False,replace_whitespace=False)\n",
        "  return '\\n'.join(w.wrap(' '.join(sentence)))"
      ],
      "execution_count": 0,
      "outputs": []
    },
    {
      "cell_type": "markdown",
      "metadata": {
        "id": "jCgSMZJMx1Yw",
        "colab_type": "text"
      },
      "source": [
        "Let's take a look at an article in our training data:"
      ]
    },
    {
      "cell_type": "code",
      "metadata": {
        "id": "bL4zhOvfw72o",
        "colab_type": "code",
        "outputId": "7ce27918-4a3a-40c2-89ae-9aeb13a9b41f",
        "colab": {
          "base_uri": "https://localhost:8080/",
          "height": 136
        }
      },
      "source": [
        "idx = 144\n",
        "\n",
        "print(decode_text(X_train[idx], inverse_word_dict), end='\\n\\n')\n",
        "\n",
        "print('Topic: ', y_train[idx])"
      ],
      "execution_count": 0,
      "outputs": [
        {
          "output_type": "stream",
          "text": [
            "<START> lt black hawk mining inc said it knows of no major activities to account for the recent rise in the company's\n",
            "stock price the shares rose 11 cts to 88 cts on the toronto stock exchange yesterday the company added that its\n",
            "application for its proposed acquisition of lt platinova resources ltd and financings are still before the listing\n",
            "committee of the stock exchange reuter 3\n",
            "\n",
            "Topic:  [0. 0. 0. 0. 1. 0. 0. 0. 0. 0. 0. 0. 0. 0. 0. 0. 0. 0. 0. 0. 0. 0. 0. 0.\n",
            " 0. 0. 0. 0. 0. 0. 0. 0. 0. 0. 0. 0. 0. 0. 0. 0. 0. 0. 0. 0. 0. 0.]\n"
          ],
          "name": "stdout"
        }
      ]
    },
    {
      "cell_type": "markdown",
      "metadata": {
        "id": "pj7y91z3JN-k",
        "colab_type": "text"
      },
      "source": [
        "##Question 1\n",
        "\n",
        "Create a model using an RNN layer (LSTM or GRU, unidirectional or bidirectional) to achieve at least 60% validation accuracy in 10 epochs or less:"
      ]
    },
    {
      "cell_type": "code",
      "metadata": {
        "id": "kWJCl86TyKBB",
        "colab_type": "code",
        "colab": {}
      },
      "source": [
        "# we should probably use the softmax activation, since there are multiple categories\n",
        "input_layer = Input(shape=(max_sequence_len))\n",
        "x = Embedding(vocab_size, 46)(input_layer)\n",
        "\n",
        "x = LSTM(64)(x) \n",
        "# takes more time to train if there are more hidden layers \n",
        "x = Dense(64, activation='relu')(x)\n",
        "x = Dropout(0.5)(x)\n",
        "x = Dense(32, activation='relu')(x)\n",
        "#x = Dropout(0.8)(x)\n",
        "\n",
        "x = Dense(46, activation='softmax')(x)\n",
        "reuters_model = Model(input_layer, x)\n",
        "\n",
        "# Reminder: We have 46 categories. What final activation do we need to use?"
      ],
      "execution_count": 0,
      "outputs": []
    },
    {
      "cell_type": "markdown",
      "metadata": {
        "id": "-L2aeGG9KS7w",
        "colab_type": "text"
      },
      "source": [
        "Compile your model and display the summary:"
      ]
    },
    {
      "cell_type": "code",
      "metadata": {
        "id": "09k-v7zVzUXj",
        "colab_type": "code",
        "outputId": "67379391-030b-4ff3-f229-3b2feaaaf208",
        "colab": {
          "base_uri": "https://localhost:8080/",
          "height": 391
        }
      },
      "source": [
        "loss = tf.keras.losses.CategoricalCrossentropy()\n",
        "\n",
        "opt = tf.keras.optimizers.Adam(1e-2)\n",
        "# adam optimizer has its own set of parameters it has to learn, which might \n",
        "# slow down learning\n",
        "#can add weight decay and momentum \n",
        "\n",
        "\n",
        "\n",
        "metrics = 'accuracy'\n",
        "\n",
        "reuters_model.compile(loss=loss,\n",
        "              optimizer=opt,\n",
        "              metrics=metrics)\n",
        "\n",
        "reuters_model.summary()"
      ],
      "execution_count": 0,
      "outputs": [
        {
          "output_type": "stream",
          "text": [
            "Model: \"model\"\n",
            "_________________________________________________________________\n",
            "Layer (type)                 Output Shape              Param #   \n",
            "=================================================================\n",
            "input_1 (InputLayer)         [(None, 2376)]            0         \n",
            "_________________________________________________________________\n",
            "embedding (Embedding)        (None, 2376, 46)          1425218   \n",
            "_________________________________________________________________\n",
            "lstm (LSTM)                  (None, 64)                28416     \n",
            "_________________________________________________________________\n",
            "dense (Dense)                (None, 64)                4160      \n",
            "_________________________________________________________________\n",
            "dropout (Dropout)            (None, 64)                0         \n",
            "_________________________________________________________________\n",
            "dense_1 (Dense)              (None, 32)                2080      \n",
            "_________________________________________________________________\n",
            "dense_2 (Dense)              (None, 46)                1518      \n",
            "=================================================================\n",
            "Total params: 1,461,392\n",
            "Trainable params: 1,461,392\n",
            "Non-trainable params: 0\n",
            "_________________________________________________________________\n"
          ],
          "name": "stdout"
        }
      ]
    },
    {
      "cell_type": "markdown",
      "metadata": {
        "id": "hCNGBuU8KfI1",
        "colab_type": "text"
      },
      "source": [
        "Train your model:"
      ]
    },
    {
      "cell_type": "code",
      "metadata": {
        "id": "mthwaqCrzvM3",
        "colab_type": "code",
        "outputId": "5b7f4d00-526a-496f-8ba5-971cb5c49a01",
        "colab": {
          "base_uri": "https://localhost:8080/",
          "height": 377
        }
      },
      "source": [
        "batchsize = 100\n",
        "\n",
        "history = reuters_model.fit(X_train, y_train, batch_size=batchsize, epochs=10, validation_split=0.2, shuffle=True)"
      ],
      "execution_count": 0,
      "outputs": [
        {
          "output_type": "stream",
          "text": [
            "Epoch 1/10\n",
            "72/72 [==============================] - 11s 146ms/step - loss: 2.4136 - accuracy: 0.3631 - val_loss: 1.9227 - val_accuracy: 0.4697\n",
            "Epoch 2/10\n",
            "72/72 [==============================] - 10s 139ms/step - loss: 1.8810 - accuracy: 0.4973 - val_loss: 1.8031 - val_accuracy: 0.5331\n",
            "Epoch 3/10\n",
            "72/72 [==============================] - 10s 140ms/step - loss: 1.7146 - accuracy: 0.5620 - val_loss: 1.7857 - val_accuracy: 0.5582\n",
            "Epoch 4/10\n",
            "72/72 [==============================] - 10s 140ms/step - loss: 1.7111 - accuracy: 0.5347 - val_loss: 1.6542 - val_accuracy: 0.5810\n",
            "Epoch 5/10\n",
            "72/72 [==============================] - 10s 139ms/step - loss: 1.6066 - accuracy: 0.5711 - val_loss: 1.6761 - val_accuracy: 0.5960\n",
            "Epoch 6/10\n",
            "72/72 [==============================] - 10s 140ms/step - loss: 1.4164 - accuracy: 0.6255 - val_loss: 1.6279 - val_accuracy: 0.6077\n",
            "Epoch 7/10\n",
            "72/72 [==============================] - 10s 140ms/step - loss: 1.2816 - accuracy: 0.6539 - val_loss: 1.5815 - val_accuracy: 0.6238\n",
            "Epoch 8/10\n",
            "72/72 [==============================] - 10s 140ms/step - loss: 1.1633 - accuracy: 0.6891 - val_loss: 1.5413 - val_accuracy: 0.6333\n",
            "Epoch 9/10\n",
            "72/72 [==============================] - 10s 139ms/step - loss: 1.0595 - accuracy: 0.7126 - val_loss: 1.5604 - val_accuracy: 0.6327\n",
            "Epoch 10/10\n",
            "72/72 [==============================] - 10s 140ms/step - loss: 0.9745 - accuracy: 0.7326 - val_loss: 1.5565 - val_accuracy: 0.6466\n"
          ],
          "name": "stdout"
        }
      ]
    },
    {
      "cell_type": "markdown",
      "metadata": {
        "id": "vphMsfn6Khdu",
        "colab_type": "text"
      },
      "source": [
        "Plot the training and validation losses and accuracies:"
      ]
    },
    {
      "cell_type": "code",
      "metadata": {
        "id": "7UPGWbEIzy28",
        "colab_type": "code",
        "outputId": "2f29d6f3-b8db-4bb0-cb63-7ae2bac10864",
        "colab": {
          "base_uri": "https://localhost:8080/",
          "height": 573
        }
      },
      "source": [
        "plt.plot(history.history['loss'])\n",
        "plt.plot(history.history['val_loss'])\n",
        "plt.title('Model Loss')\n",
        "plt.ylabel('Loss')\n",
        "plt.xlabel('Epochs')\n",
        "plt.legend(['train', 'test'])\n",
        "plt.show()\n",
        "\n",
        "plt.plot(history.history['accuracy'])\n",
        "plt.plot(history.history['val_accuracy'])\n",
        "plt.title('Model Accuracy')\n",
        "plt.ylabel('Accuracy')\n",
        "plt.xlabel('Epochs')\n",
        "plt.legend(['train', 'test'])\n",
        "plt.ylim([0,1])\n",
        "plt.show()"
      ],
      "execution_count": 0,
      "outputs": [
        {
          "output_type": "display_data",
          "data": {
            "image/png": "[encoded data removed]",
            "text/plain": [
              "<Figure size 432x288 with 1 Axes>"
            ]
          },
          "metadata": {
            "tags": [],
            "needs_background": "light"
          }
        },
        {
          "output_type": "display_data",
          "data": {
            "image/png": "[encoded data removed]",
            "text/plain": [
              "<Figure size 432x288 with 1 Axes>"
            ]
          },
          "metadata": {
            "tags": [],
            "needs_background": "light"
          }
        }
      ]
    },
    {
      "cell_type": "markdown",
      "metadata": {
        "id": "80g0LaTnOMBY",
        "colab_type": "text"
      },
      "source": [
        "##Question 2\n",
        "\n"
      ]
    },
    {
      "cell_type": "markdown",
      "metadata": {
        "id": "HZ3u2b1CN4zN",
        "colab_type": "text"
      },
      "source": [
        "We've seen both LSTM and GRU cells as building blocks for RNNs.\n",
        "\n",
        "Here is a reminder of each of their corresponding architectures:\n",
        "\n",
        "![Pic](https://drive.google.com/uc?id=1INZQkDev_8rdFxOT9hfAiPWJRT6-N82S)\n",
        "\n",
        "i) What are the major differences between each?\n",
        "\n",
        "ii) What are the major advantages of each?\n",
        "\n",
        "iii) What are the major disadvantages of each?"
      ]
    },
    {
      "cell_type": "markdown",
      "metadata": {
        "id": "Xb6boYiUKUlu",
        "colab_type": "text"
      },
      "source": [
        "## YOUR ANSWERS HERE\n",
        "i) LSTM has seperate forget gate and update gate, while GRU has this combined as just an update gate. So, the LSTM has the forget gate (which decides what information to keep from previous steps) the input gate (for which information to add to the current step) and the output gate(for deciding the next hidden state). And the GRU has the reset gate (which decides what past information to forget) and the update gate(which acts similar to LSTM's forget gate and update gate in deciding which information to forget and which information to add).  So, the LSTM unit computes the amount of the new memory content that is added to the memory cell independently from the forget gate. Meanwhile, the GRU does not independently control the amount of the candidate activation that is added and the GRU does not have a memory cell. Instead, the GRU uses its hidden layer to transfer information. The GRU controls the information flow from the previous activation, while the LSTM does not control the information flow from the previous step.  The LSTM's output gate controls the amount of the memory content that is seen or used by other unnits in the network. Meanwhile, GRU does not control the amount of memory content outputted, so it outputs the full memory content.\n",
        "\n",
        "ii) The LSTM unit has seperate input and forget gates, while the GRU performs more operations with each of its gates. With less gates, this allows the GRU to be computationally more efficient, train faster, easier to modify, and less complex. This allows for less code and less hidden layers that need to be trained for GRU. Meanwhile, the LSTM is not as simple, but its complexity allows for LSTMs to, in theory, remember longer sequences and this should outperform GRU when requiring long-distance relations. But, otherwise LSTM and GRU have comparable performances.  \n",
        "\n",
        "ii) The disadvantage of the LSTM is that it is harder to train, since it is more complex. The disadvanatage with the GRU is that it is not as sophisticated as the LSTM and there is less control with the hidden layers with the GRU. So, the GRU is at a disadvantage, if you wanted more control over the training. The GRU may also not remember sequences as long. "
      ]
    }
  ]
}